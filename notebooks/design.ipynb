{
 "cells": [
  {
   "cell_type": "markdown",
   "id": "05c37f7b-34d6-41bd-bf06-97d2157170e0",
   "metadata": {},
   "source": [
    "# Introduction\n",
    "---\n",
    "In this notebook I am developing methods for MCMC sampling."
   ]
  },
  {
   "cell_type": "code",
   "execution_count": 4,
   "id": "52fc8c29-5e39-4fca-ac46-56315957e06d",
   "metadata": {},
   "outputs": [],
   "source": [
    "import sys\n",
    "sys.path.append('../')\n",
    "from sampler import MCMC"
   ]
  },
  {
   "cell_type": "code",
   "execution_count": 5,
   "id": "86a1cb44-6927-4c23-bef8-3e390b7aefb2",
   "metadata": {
    "tags": []
   },
   "outputs": [
    {
     "name": "stdout",
     "output_type": "stream",
     "text": [
      "ProteusAI.MCMC.SequenceOptimizer class: \n",
      "---------------------------------------\n",
      "When SequenceOptimizer.run() is called sequence optimization will be performed on sequence:\n",
      "\n",
      "AHVFGRACY\n",
      "\n",
      "The following variables were set:\n",
      "\n",
      "variable\t|value\n",
      "----------------+-------------------\n",
      "sampler: \t|simulated_annealing\n",
      "n_traj: \t|5\n",
      "n_iter: \t|1000\n",
      "mut_p: \t\t|(0.6, 0.2, 0.2)\n",
      "T: \t\t|10.0\n",
      "M: \t\t|0.01\n",
      "\n",
      "The energy function is a linear combination of the following constraints:\n",
      "\n",
      "constraint\t|value\t|weight\n",
      "----------------+-------+------------\n",
      "length \t\t|200\t|0.0\n",
      "\n"
     ]
    }
   ],
   "source": [
    "optimizer = MCMC.SequenceOptimizer(native_seq='AHVFGRACY')   \n",
    "print(optimizer)"
   ]
  },
  {
   "cell_type": "code",
   "execution_count": 3,
   "id": "05afdc69-bef4-476b-a15c-378f4130d595",
   "metadata": {},
   "outputs": [
    {
     "name": "stderr",
     "output_type": "stream",
     "text": [
      "/Users/jonathanfunk/Projects/GitHub/proteusAI/notebooks/../sampler/MCMC.py:133: RuntimeWarning: divide by zero encountered in divide\n",
      "  exp_val = np.exp(1 / (T * dE))\n"
     ]
    },
    {
     "data": {
      "text/plain": [
       "['LYSQYENIKVVAQTCRN', 'IRVAINDAQ', 'MSA', 'YRQ', 'SNHCWVI']"
      ]
     },
     "execution_count": 3,
     "metadata": {},
     "output_type": "execute_result"
    }
   ],
   "source": [
    "optimizer.mutate"
   ]
  },
  {
   "cell_type": "code",
   "execution_count": 7,
   "id": "1458f887-79d0-43fe-9cb1-ea5f8b286923",
   "metadata": {},
   "outputs": [],
   "source": []
  },
  {
   "cell_type": "code",
   "execution_count": 10,
   "id": "3ec98c07-66b9-4b48-bb56-1329d515ca0c",
   "metadata": {},
   "outputs": [],
   "source": []
  },
  {
   "cell_type": "code",
   "execution_count": 40,
   "id": "77038d37-a5f3-4cb5-9cf1-418c0131cbb0",
   "metadata": {
    "tags": []
   },
   "outputs": [
    {
     "data": {
      "text/plain": [
       "array([0.25497309, 0.25497309])"
      ]
     },
     "execution_count": 40,
     "metadata": {},
     "output_type": "execute_result"
    }
   ],
   "source": [
    "import numpy as np\n",
    "\n",
    "pdb = []\n",
    "with open('../scripts/accepted/sequence_0_iter_101.pdb', 'r') as f:\n",
    "    for line in f:\n",
    "        pdb.append(line)\n",
    "pdb = ''.join(pdb)\n",
    "\n",
    "\n",
    "def globularity(pdbs: str):\n",
    "    \"\"\"\n",
    "    globularity constraint\n",
    "    \n",
    "    Parameters:\n",
    "        pdb (list): list of pdb_strings\n",
    "    \n",
    "    Returns:\n",
    "        np.array: variances\n",
    "    \"\"\"\n",
    "    variances = np.zeros(len(pdbs))\n",
    "\n",
    "    for i, pdb in enumerate(pdbs):\n",
    "        coordinates = []\n",
    "        pdb = pdb.split('\\n')\n",
    "        for line in pdb:\n",
    "            if line.startswith('ATOM'):\n",
    "                x = float(line[32:38])\n",
    "                y = float(line[39:46])\n",
    "                z = float(line[46:54])\n",
    "                coordinates.append(np.array([x, y, z]))\n",
    "                \n",
    "\n",
    "        variance = sum(np.var(coordinates, axis=0, ddof=1))\n",
    "        variances[i] = variance.item()\n",
    "\n",
    "    return variances\n",
    "            \n",
    "\n",
    "globularity([pdb, pdb])*0.002"
   ]
  },
  {
   "cell_type": "code",
   "execution_count": 13,
   "id": "1529b8a2-05e4-470e-a441-9b0a2ad19d3e",
   "metadata": {},
   "outputs": [
    {
     "data": {
      "text/plain": [
       "33"
      ]
     },
     "execution_count": 13,
     "metadata": {},
     "output_type": "execute_result"
    }
   ],
   "source": [
    "len('ATOM      1  N   THR A   1       ')"
   ]
  },
  {
   "cell_type": "code",
   "execution_count": null,
   "id": "ac160d2c-8ea7-45d9-817a-a47c977865ea",
   "metadata": {},
   "outputs": [],
   "source": []
  }
 ],
 "metadata": {
  "kernelspec": {
   "display_name": "Python 3 (ipykernel)",
   "language": "python",
   "name": "python3"
  },
  "language_info": {
   "codemirror_mode": {
    "name": "ipython",
    "version": 3
   },
   "file_extension": ".py",
   "mimetype": "text/x-python",
   "name": "python",
   "nbconvert_exporter": "python",
   "pygments_lexer": "ipython3",
   "version": "3.8.16"
  }
 },
 "nbformat": 4,
 "nbformat_minor": 5
}
