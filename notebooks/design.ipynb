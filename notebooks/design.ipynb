{
 "cells": [
  {
   "cell_type": "markdown",
   "id": "05c37f7b-34d6-41bd-bf06-97d2157170e0",
   "metadata": {},
   "source": [
    "# Introduction\n",
    "---\n",
    "In this notebook I am developing methods for MCMC sampling."
   ]
  },
  {
   "cell_type": "code",
   "execution_count": 1,
   "id": "52fc8c29-5e39-4fca-ac46-56315957e06d",
   "metadata": {},
   "outputs": [],
   "source": [
    "import sys\n",
    "sys.path.append('../')\n",
    "from sampler import MCMC"
   ]
  },
  {
   "cell_type": "code",
   "execution_count": 2,
   "id": "86a1cb44-6927-4c23-bef8-3e390b7aefb2",
   "metadata": {
    "tags": []
   },
   "outputs": [
    {
     "name": "stdout",
     "output_type": "stream",
     "text": [
      "ProteusAI.MCMC.Hallucination class: \n",
      "---------------------------------------\n",
      "When Hallucination.run() sequences will be hallucinated using this seed sequence:\n",
      "\n",
      "AHVFGRACY\n",
      "\n",
      "The following variables were set:\n",
      "\n",
      "variable\t|value\n",
      "----------------+-------------------\n",
      "sampler: \t|simulated_annealing\n",
      "n_traj: \t|5\n",
      "n_iter: \t|1000\n",
      "mut_p: \t\t|(0.6, 0.2, 0.2)\n",
      "T: \t\t|10.0\n",
      "M: \t\t|0.01\n",
      "\n",
      "The energy function is a linear combination of the following constraints:\n",
      "\n",
      "constraint\t|value\t|weight\n",
      "----------------+-------+------------\n",
      "length \t\t|200\t|0.2\n",
      "\n"
     ]
    }
   ],
   "source": [
    "hallucination = MCMC.Hallucination(native_seq='AHVFGRACY')   \n",
    "print(hallucination)"
   ]
  },
  {
   "cell_type": "code",
   "execution_count": 6,
   "id": "3f63c83c-048d-479e-95ec-e70ee00f1f10",
   "metadata": {
    "tags": []
   },
   "outputs": [],
   "source": [
    "import os\n",
    "from subprocess import DEVNULL, STDOUT, check_call\n",
    "\n",
    "path_to_files = '../scripts/hallucinations/'\n",
    "outdir = '../scripts/pngs/'\n",
    "pdbs = [path_to_files + file for file in os.listdir(path_to_files)]\n",
    "pdbs = sorted(pdbs, key=lambda f: int(f.split('/')[-1].split('_hallucination')[0]))\n",
    "\n",
    "hallucinations = {}\n",
    "for pdb in pdbs:\n",
    "    traj = (pdb.split('_hallucination_')[-1][:-4])\n",
    "    if traj not in hallucinations.keys():\n",
    "        hallucinations[traj] = [pdb]\n",
    "    else:\n",
    "        hallucinations[traj].append(pdb)\n",
    "\n",
    "images = {}\n",
    "for traj in hallucinations.keys():\n",
    "    \n",
    "    for i, pdb in enumerate(hallucinations[traj]):\n",
    "        if i == 0:\n",
    "            # only open this one file without alignemt\n",
    "            struc = pdb\n",
    "            png = outdir + pdb.split('/')[-1][:-4] + '.png'\n",
    "            lines = [\n",
    "                f'load {struc}, struc',\n",
    "                'spectrum b, blue_white_red, minimum=20, maximum=50',\n",
    "                'bg_color white',\n",
    "                'set ray_opaque_background, off',\n",
    "                'set ray_trace_fog, 0.5',\n",
    "                'set ray_shadows, off',\n",
    "                'set ambient, 0.2',\n",
    "                'ray 1200, 1200',\n",
    "                f'png {png}',\n",
    "                'quit'\n",
    "            ]\n",
    "            with open('make_png.pml', 'w') as f:\n",
    "                for line in lines:\n",
    "                    f.writelines(line + '\\n')\n",
    "            \n",
    "            images[traj] = [png]\n",
    "            check_call(['pymol', 'make_png.pml'], stdout=DEVNULL, stderr=STDOUT)\n",
    "        else:\n",
    "            # align to previous file\n",
    "            struc = pdb\n",
    "            prev_struc = hallucinations[traj][i-1]\n",
    "            png = outdir + pdb.split('/')[-1][:-4] + '.png'\n",
    "            lines = [\n",
    "                f'load {struc}, struc',\n",
    "                f'load {prev_struc}, prev_struc',\n",
    "                'align struc, prev_struc',\n",
    "                'delete prev_struc',\n",
    "                'spectrum b, blue_white_red, minimum=20, maximum=50',\n",
    "                'bg_color white',\n",
    "                'set ray_opaque_background, off',\n",
    "                'set ray_trace_fog, 0.5',\n",
    "                'set ray_shadows, off',\n",
    "                'set ambient, 0.2',\n",
    "                'ray 1200, 1200',\n",
    "                f'png {png}',\n",
    "                'quit'\n",
    "            ]\n",
    "            with open('make_png.pml', 'w') as f:\n",
    "                for line in lines:\n",
    "                    f.writelines(line + '\\n')\n",
    "            \n",
    "            images[traj].append(png)\n",
    "            check_call(['pymol', 'make_png.pml'], stdout=DEVNULL, stderr=STDOUT)"
   ]
  },
  {
   "cell_type": "code",
   "execution_count": 10,
   "id": "e9cb5c44-90fc-4de5-bf62-471f8b986384",
   "metadata": {},
   "outputs": [
    {
     "name": "stderr",
     "output_type": "stream",
     "text": [
      "/var/folders/sd/pr3fylj57wlgrmcxg1v4zp3c0000gn/T/ipykernel_89984/778785286.py:9: DeprecationWarning: Starting with ImageIO v3 the behavior of this function will switch to that of iio.v3.imread. To keep the current behavior (and make this warning disappear) use `import imageio.v2 as imageio` or call `imageio.v2.imread` directly.\n",
      "  frames.append(imageio.imread(file))\n"
     ]
    }
   ],
   "source": [
    "import imageio.v2 as imageio\n",
    "import os\n",
    "\n",
    "# Read each PNG file and append to the list of frames\n",
    "\n",
    "for i in images.keys():\n",
    "    frames = []\n",
    "    for file in images[i]:\n",
    "        frames.append(imageio.imread(file))\n",
    "    \n",
    "\n",
    "    # Save the frames as a GIF\n",
    "    output_file = f\"hallucination_{i}.gif\"\n",
    "    imageio.mimsave(output_file, frames, duration=0.5)"
   ]
  },
  {
   "cell_type": "code",
   "execution_count": 11,
   "id": "22970cc6-06a7-49dc-924a-dff3935eb55a",
   "metadata": {},
   "outputs": [
    {
     "data": {
      "text/html": [
       "\n",
       "<div style=\"display: flex; flex-wrap: wrap; justify-content: space-between;\">\n",
       "    <img src=\"hallucination_0.gif\" style=\"width: 18%; margin-bottom: 10px;\">\n",
       "    <img src=\"hallucination_1.gif\" style=\"width: 18%; margin-bottom: 10px;\">\n",
       "    <img src=\"hallucination_2.gif\" style=\"width: 18%; margin-bottom: 10px;\">\n",
       "    <img src=\"hallucination_3.gif\" style=\"width: 18%; margin-bottom: 10px;\">\n",
       "    <img src=\"hallucination_4.gif\" style=\"width: 18%; margin-bottom: 10px;\">\n",
       "</div>\n"
      ],
      "text/plain": [
       "<IPython.core.display.HTML object>"
      ]
     },
     "execution_count": 11,
     "metadata": {},
     "output_type": "execute_result"
    }
   ],
   "source": [
    "from IPython.display import HTML\n",
    "\n",
    "# Replace these file paths with your own\n",
    "gif1 = \"hallucination_0.gif\"\n",
    "gif2 = \"hallucination_1.gif\"\n",
    "gif3 = \"hallucination_2.gif\"\n",
    "gif4 = \"hallucination_3.gif\"\n",
    "gif5 = \"hallucination_4.gif\"\n",
    "\n",
    "# Create the HTML code to display the GIFs in a 2x2 grid\n",
    "html = f\"\"\"\n",
    "<div style=\"display: flex; flex-wrap: wrap; justify-content: space-between;\">\n",
    "    <img src=\"{gif1}\" style=\"width: 18%; margin-bottom: 10px;\">\n",
    "    <img src=\"{gif2}\" style=\"width: 18%; margin-bottom: 10px;\">\n",
    "    <img src=\"{gif3}\" style=\"width: 18%; margin-bottom: 10px;\">\n",
    "    <img src=\"{gif4}\" style=\"width: 18%; margin-bottom: 10px;\">\n",
    "    <img src=\"{gif5}\" style=\"width: 18%; margin-bottom: 10px;\">\n",
    "</div>\n",
    "\"\"\"\n",
    "\n",
    "# Display the HTML code\n",
    "HTML(html)"
   ]
  },
  {
   "cell_type": "code",
   "execution_count": null,
   "id": "a339d2f2-b56a-4c6a-a89a-02cad899d030",
   "metadata": {},
   "outputs": [],
   "source": []
  }
 ],
 "metadata": {
  "kernelspec": {
   "display_name": "Python 3 (ipykernel)",
   "language": "python",
   "name": "python3"
  },
  "language_info": {
   "codemirror_mode": {
    "name": "ipython",
    "version": 3
   },
   "file_extension": ".py",
   "mimetype": "text/x-python",
   "name": "python",
   "nbconvert_exporter": "python",
   "pygments_lexer": "ipython3",
   "version": "3.8.16"
  }
 },
 "nbformat": 4,
 "nbformat_minor": 5
}
