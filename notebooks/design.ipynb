{
 "cells": [
  {
   "cell_type": "markdown",
   "id": "05c37f7b-34d6-41bd-bf06-97d2157170e0",
   "metadata": {},
   "source": [
    "# Introduction\n",
    "---\n",
    "In this notebook I am developing methods for MCMC sampling."
   ]
  },
  {
   "cell_type": "code",
   "execution_count": 1,
   "id": "52fc8c29-5e39-4fca-ac46-56315957e06d",
   "metadata": {},
   "outputs": [],
   "source": [
    "import sys\n",
    "sys.path.append('../')\n",
    "from sampler import MCMC"
   ]
  },
  {
   "cell_type": "code",
   "execution_count": 2,
   "id": "86a1cb44-6927-4c23-bef8-3e390b7aefb2",
   "metadata": {
    "tags": []
   },
   "outputs": [
    {
     "name": "stdout",
     "output_type": "stream",
     "text": [
      "ProteusAI.MCMC.SequenceOptimizer class: \n",
      "---------------------------------------\n",
      "When SequenceOptimizer.run() is called sequence optimization will be performed on sequence:\n",
      "\n",
      "AHVFGRACY\n",
      "\n",
      "The following variables were set:\n",
      "\n",
      "variable\t|value\n",
      "----------------+-------------------\n",
      "sampler: \t|simulated_annealing\n",
      "n_traj: \t|5\n",
      "n_iter: \t|1000\n",
      "mut_p: \t\t|(0.6, 0.2, 0.2)\n",
      "T: \t\t|10.0\n",
      "M: \t\t|0.01\n",
      "\n",
      "The energy function is a linear combination of the following constraints:\n",
      "\n",
      "constraint\t|value\t|weight\n",
      "----------------+-------+------------\n",
      "length \t\t|200\t|0.0\n",
      "\n"
     ]
    }
   ],
   "source": [
    "optimizer = MCMC.SequenceOptimizer(native_seq='AHVFGRACY')   \n",
    "print(optimizer)"
   ]
  },
  {
   "cell_type": "code",
   "execution_count": 3,
   "id": "05afdc69-bef4-476b-a15c-378f4130d595",
   "metadata": {},
   "outputs": [
    {
     "name": "stderr",
     "output_type": "stream",
     "text": [
      "/Users/jonathanfunk/Projects/GitHub/proteusAI/notebooks/../sampler/MCMC.py:133: RuntimeWarning: divide by zero encountered in divide\n",
      "  exp_val = np.exp(1 / (T * dE))\n"
     ]
    },
    {
     "data": {
      "text/plain": [
       "['LYSQYENIKVVAQTCRN', 'IRVAINDAQ', 'MSA', 'YRQ', 'SNHCWVI']"
      ]
     },
     "execution_count": 3,
     "metadata": {},
     "output_type": "execute_result"
    }
   ],
   "source": [
    "optimizer.run()"
   ]
  },
  {
   "cell_type": "code",
   "execution_count": null,
   "id": "3a3363c9-11ca-4074-a918-51e6fedc5f11",
   "metadata": {},
   "outputs": [],
   "source": []
  }
 ],
 "metadata": {
  "kernelspec": {
   "display_name": "Python 3 (ipykernel)",
   "language": "python",
   "name": "python3"
  },
  "language_info": {
   "codemirror_mode": {
    "name": "ipython",
    "version": 3
   },
   "file_extension": ".py",
   "mimetype": "text/x-python",
   "name": "python",
   "nbconvert_exporter": "python",
   "pygments_lexer": "ipython3",
   "version": "3.8.16"
  }
 },
 "nbformat": 4,
 "nbformat_minor": 5
}
