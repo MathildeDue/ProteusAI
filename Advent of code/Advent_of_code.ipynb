{
 "cells": [
  {
   "cell_type": "code",
   "execution_count": 2,
   "id": "92f0560e-5871-4568-956c-f105da190e6f",
   "metadata": {},
   "outputs": [],
   "source": [
    "import os\n",
    "\n",
    "os.chdir('Advent of code/')"
   ]
  },
  {
   "cell_type": "markdown",
   "id": "9df46a38-315b-44d1-8162-9b9979132787",
   "metadata": {
    "tags": []
   },
   "source": [
    "# Day 1\n",
    "---\n",
    "## Part 1\n",
    "\n",
    "[...]\n",
    "\n",
    "\n",
    "The newly-improved calibration document consists of lines of text; each line originally contained a specific calibration value that the Elves now need to recover. On each line, the calibration value can be found by combining the first digit and the last digit (in that order) to form a single two-digit number.\n",
    "\n",
    "For example:\n",
    "\n",
    "1abc2\n",
    "\n",
    "pqr3stu8vwx\n",
    "\n",
    "a1b2c3d4e5f\n",
    "\n",
    "treb7uchet\n",
    "\n",
    "In this example, the calibration values of these four lines are 12, 38, 15, and 77. Adding these together produces 142.\n",
    "\n",
    "Consider your entire calibration document. What is the sum of all of the calibration values?"
   ]
  },
  {
   "cell_type": "code",
   "execution_count": 16,
   "id": "2a647367-d10a-4951-8dab-4b279520bb91",
   "metadata": {},
   "outputs": [
    {
     "data": {
      "text/plain": [
       "['0', '1', '2', '3', '4', '5', '6', '7', '8', '9']"
      ]
     },
     "execution_count": 16,
     "metadata": {},
     "output_type": "execute_result"
    }
   ],
   "source": [
    "numbers = [str(i) for i in range(10)]\n",
    "numbers"
   ]
  },
  {
   "cell_type": "code",
   "execution_count": 32,
   "id": "811ba3f0-d44c-47cd-b309-432f084640f5",
   "metadata": {},
   "outputs": [],
   "source": [
    "def day_1(lst: list):\n",
    "    nums = []\n",
    "    for line in lst:\n",
    "        digits = [d for d in line if d in numbers]\n",
    "        if len(digits) > 1:\n",
    "            nums.append(int(digits[0] + digits[-1]))\n",
    "        else:\n",
    "            nums.append(int(digits[0]*2))\n",
    "    return sum(nums)"
   ]
  },
  {
   "cell_type": "code",
   "execution_count": 36,
   "id": "fd61f581-9a6a-4ade-8839-5e2cff8cd93c",
   "metadata": {},
   "outputs": [
    {
     "data": {
      "text/plain": [
       "142"
      ]
     },
     "execution_count": 36,
     "metadata": {},
     "output_type": "execute_result"
    }
   ],
   "source": [
    "test = [\"1abc2\",\"pqr3stu8vwx\", \"a1b2c3d4e5f\", \"treb7uchet\"]\n",
    "day_1(test)"
   ]
  },
  {
   "cell_type": "code",
   "execution_count": 37,
   "id": "698bce88-9902-4be5-b181-3aa05e4d739d",
   "metadata": {},
   "outputs": [
    {
     "data": {
      "text/plain": [
       "55386"
      ]
     },
     "execution_count": 37,
     "metadata": {},
     "output_type": "execute_result"
    }
   ],
   "source": [
    "with open('day1.txt') as f:\n",
    "    lst = f.readlines()\n",
    "\n",
    "day_1(lst)"
   ]
  },
  {
   "cell_type": "markdown",
   "id": "9c0b55cf-0e74-40f4-9cac-25450acd686a",
   "metadata": {},
   "source": [
    "## Part 2\n",
    "\n",
    "Your calculation isn't quite right. It looks like some of the digits are actually spelled out with letters: one, two, three, four, five, six, seven, eight, and nine also count as valid \"digits\".\n",
    "\n",
    "Equipped with this new information, you now need to find the real first and last digit on each line. For example:\n",
    "\n",
    "two1nine\n",
    "eightwothree\n",
    "abcone2threexyz\n",
    "xtwone3four\n",
    "4nineeightseven2\n",
    "zoneight234\n",
    "7pqrstsixteen\n",
    "\n",
    "In this example, the calibration values are 29, 83, 13, 24, 42, 14, and 76. Adding these together produces 281."
   ]
  },
  {
   "cell_type": "code",
   "execution_count": 200,
   "id": "98bad1dc-3b57-4a23-b6e8-4e3317d5bceb",
   "metadata": {},
   "outputs": [],
   "source": [
    "import regex as re"
   ]
  },
  {
   "cell_type": "code",
   "execution_count": 203,
   "id": "8ccfd223-e8f9-4616-b965-1c78691f07a4",
   "metadata": {},
   "outputs": [
    {
     "data": {
      "text/plain": [
       "281"
      ]
     },
     "execution_count": 203,
     "metadata": {},
     "output_type": "execute_result"
    }
   ],
   "source": [
    "test2 = [\"two1nine\", \"eightwothree\", \"abcone2threexyz\", \"xtwone3four\", \"4nineeightseven2\", \"zoneight234\", \"7pqrstsixteen\"]\n",
    "\n",
    "def day_2(lst: list):\n",
    "    nums = []\n",
    "    numbers = [str(i) for i in range(10)]\n",
    "    numbers_spelled = {\"one\":\"1\", \"two\":\"2\", \"three\":\"3\", \"four\":\"4\", \"five\":\"5\", \"six\":\"6\", \"seven\":\"7\", \"eight\":\"8\", \"nine\":\"9\"}\n",
    "    n_plus = numbers + list(numbers_spelled.keys())\n",
    "    regex = \"|\".join(n_plus)\n",
    "    for line in lst:\n",
    "        digits_raw = re.findall(re.compile(regex), line, overlapped=True)\n",
    "\n",
    "        digits = [numbers_spelled[d] if d in numbers_spelled.keys() else d for d in digits_raw]\n",
    "        \n",
    "        if len(digits) > 1:\n",
    "            nums.append(int(digits[0] + digits[-1]))\n",
    "        else:\n",
    "            nums.append(int(digits[0]*2))\n",
    "    \n",
    "    return sum(nums)\n",
    "\n",
    "day_2(test2)"
   ]
  },
  {
   "cell_type": "code",
   "execution_count": 204,
   "id": "c63a4ddd-8db7-4d2b-ab83-346475b61041",
   "metadata": {},
   "outputs": [
    {
     "data": {
      "text/plain": [
       "54824"
      ]
     },
     "execution_count": 204,
     "metadata": {},
     "output_type": "execute_result"
    }
   ],
   "source": [
    "with open('day2.txt') as f:\n",
    "    lst = f.readlines()\n",
    "\n",
    "day_2(lst)"
   ]
  },
  {
   "cell_type": "code",
   "execution_count": null,
   "id": "4dc8e767-be12-4c06-a535-f12d294d0fae",
   "metadata": {},
   "outputs": [],
   "source": []
  }
 ],
 "metadata": {
  "kernelspec": {
   "display_name": "Python 3 (ipykernel)",
   "language": "python",
   "name": "python3"
  },
  "language_info": {
   "codemirror_mode": {
    "name": "ipython",
    "version": 3
   },
   "file_extension": ".py",
   "mimetype": "text/x-python",
   "name": "python",
   "nbconvert_exporter": "python",
   "pygments_lexer": "ipython3",
   "version": "3.8.16"
  }
 },
 "nbformat": 4,
 "nbformat_minor": 5
}
