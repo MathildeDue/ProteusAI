{
 "cells": [
  {
   "cell_type": "code",
   "execution_count": 1,
   "id": "30dbd7a9-add5-40e9-81e7-18e4df12d653",
   "metadata": {},
   "outputs": [
    {
     "name": "stderr",
     "output_type": "stream",
     "text": [
      "/opt/anaconda3/envs/proteusAI/lib/python3.8/site-packages/proteusAI/ml_tools/esm_tools/esm_tools.py:35: FutureWarning: You are using `torch.load` with `weights_only=False` (the current default value), which uses the default pickle module implicitly. It is possible to construct malicious pickle data which will execute arbitrary code during unpickling (See https://github.com/pytorch/pytorch/blob/main/SECURITY.md#untrusted-models for more details). In a future release, the default value for `weights_only` will be flipped to `True`. This limits the functions that could be executed during unpickling. Arbitrary objects will no longer be allowed to be loaded via this mode unless they are explicitly allowlisted by the user via `torch.serialization.add_safe_globals`. We recommend you start setting `weights_only=True` for any use case where you don't have full control of the loaded file. Please open an issue on GitHub for any issues related to this experimental feature.\n",
      "  alphabet = torch.load(os.path.join(Path(__file__).parent, \"alphabet.pt\"))\n",
      "/opt/anaconda3/envs/proteusAI/lib/python3.8/site-packages/tqdm/auto.py:21: TqdmWarning: IProgress not found. Please update jupyter and ipywidgets. See https://ipywidgets.readthedocs.io/en/stable/user_install.html\n",
      "  from .autonotebook import tqdm as notebook_tqdm\n"
     ]
    },
    {
     "data": {
      "text/plain": [
       "'0.1.0'"
      ]
     },
     "execution_count": 1,
     "metadata": {},
     "output_type": "execute_result"
    }
   ],
   "source": [
    "import proteusAI as pai\n",
    "import pandas as pd\n",
    "pai.__version__"
   ]
  },
  {
   "cell_type": "code",
   "execution_count": null,
   "id": "630de818-3ef4-4675-aa17-4e382720b7af",
   "metadata": {},
   "outputs": [],
   "source": [
    "library_pae = pai.Library(source='demo/demo_data/master_dataset.csv', seqs_col='binder_seq', y_col='pae_interaction_HLA-A101-RVTDESILSY', \n",
    "                    y_type='num', names_col='binder_name')\n",
    "library_plddt = pai.Library(source='demo/demo_data/master_dataset.csv', seqs_col='binder_seq', y_col='plddt_binder_HLA-A101-RVTDESILSY', \n",
    "                    y_type='num', names_col='binder_name')"
   ]
  },
  {
   "cell_type": "code",
   "execution_count": null,
   "id": "78c2ec80-aa51-42ef-9552-7b471a889fc4",
   "metadata": {},
   "outputs": [],
   "source": [
    "model_pae = pai.Model(library=library_pae)\n",
    "plddt_model = pai.Model(library=library_plddt)"
   ]
  },
  {
   "cell_type": "code",
   "execution_count": null,
   "id": "959a6bf3-8e6e-4cfd-8287-d223fcaa4945",
   "metadata": {},
   "outputs": [],
   "source": [
    "_ = model_pae.train(k_folds=5, model_type='rf', x='blosum62', seed=42, split=(60,20,20))"
   ]
  },
  {
   "cell_type": "code",
   "execution_count": null,
   "id": "7c5bf402-9e31-46b8-aeaf-c266ae1fccde",
   "metadata": {},
   "outputs": [],
   "source": [
    "model_pae.true_vs_predicted(y_true=model_pae.y_val, y_pred=model_pae.y_val_pred)"
   ]
  },
  {
   "cell_type": "code",
   "execution_count": null,
   "id": "dc597163-2cad-482c-89ec-10548406f6d7",
   "metadata": {},
   "outputs": [],
   "source": [
    "train_names = [prot.name for prot in model_pae.train_data]\n",
    "test_names = [prot.name for prot in model_pae.test_data]\n",
    "val_names = [prot.name for prot in model_pae.val_data]"
   ]
  },
  {
   "cell_type": "code",
   "execution_count": null,
   "id": "56e51948-79ad-4f2f-8a74-33bf4e18bf5b",
   "metadata": {},
   "outputs": [],
   "source": [
    "train = [prot for prot in plddt_model.library.proteins if prot.name in train_names]\n",
    "test = [prot for prot in plddt_model.library.proteins if prot.name in test_names]\n",
    "val = [prot for prot in plddt_model.library.proteins if prot.name in val_names]\n",
    "\n",
    "split = {'train':train, 'test':test, 'val':val}\n",
    "\n",
    "plddt_out = plddt_model.train(k_folds=5, model_type='rf', x='blosum62', seed=42, split=split)"
   ]
  },
  {
   "cell_type": "code",
   "execution_count": null,
   "id": "2f10003f-594d-423d-8953-21946291c900",
   "metadata": {},
   "outputs": [],
   "source": [
    "plddt_model.true_vs_predicted(y_true=plddt_model.y_val, y_pred=plddt_model.y_val_pred)"
   ]
  },
  {
   "cell_type": "code",
   "execution_count": null,
   "id": "904487aa-2a5a-4b21-b674-df6ae644a4e3",
   "metadata": {},
   "outputs": [],
   "source": [
    "pae_out = model_pae.search(optim_problem='min', overwrite=True) # acq_fn = 'ei'"
   ]
  },
  {
   "cell_type": "code",
   "execution_count": null,
   "id": "991f7882-e244-47fe-8428-b8c10881e0b3",
   "metadata": {},
   "outputs": [],
   "source": [
    "predicted_proteins = [pai.Protein(seq=row.sequence, name=row['name']) for i, row in pae_out.iterrows()]\n",
    "plddt_predictions = plddt_model.predict(predicted_proteins)"
   ]
  },
  {
   "cell_type": "code",
   "execution_count": null,
   "id": "edb3a6af-579e-4cc1-b18d-bf691a8cdab7",
   "metadata": {},
   "outputs": [],
   "source": [
    "for prot in plddt_predictions[0]:\n",
    "    print(prot)\n",
    "    predicted_plddt_value = prot.y_pred\n",
    "    predicted_plddt_sigma = prot.y_sigma\n",
    "    print(predicted_plddt_value, predicted_plddt_sigma)\n",
    "    break"
   ]
  },
  {
   "cell_type": "code",
   "execution_count": null,
   "id": "e4d24aaf-0065-4d04-b740-31fae31aa3fc",
   "metadata": {},
   "outputs": [],
   "source": [
    "out = out.sort_values(by=['y_predicted'], ascending=True)\n",
    "out.to_csv('demo/demo_data/predictions.csv')"
   ]
  },
  {
   "cell_type": "code",
   "execution_count": null,
   "id": "b0f04b5b-e1b4-457f-bbae-4e2c2e96ca60",
   "metadata": {},
   "outputs": [],
   "source": [
    "out.hist()"
   ]
  }
 ],
 "metadata": {
  "kernelspec": {
   "display_name": "Python 3 (ipykernel)",
   "language": "python",
   "name": "python3"
  },
  "language_info": {
   "codemirror_mode": {
    "name": "ipython",
    "version": 3
   },
   "file_extension": ".py",
   "mimetype": "text/x-python",
   "name": "python",
   "nbconvert_exporter": "python",
   "pygments_lexer": "ipython3",
   "version": "3.8.19"
  }
 },
 "nbformat": 4,
 "nbformat_minor": 5
}
