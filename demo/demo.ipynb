{
 "cells": [
  {
   "cell_type": "markdown",
   "id": "592b71d3-0aa9-4ed3-93cb-0951850081fa",
   "metadata": {},
   "source": [
    "# Getting started\n",
    "___\n",
    "The following illustrates the basic functionalities of the proteusAI package, such as training machine learning models using experimental data, performing zero-shot predictions and visualizing results. \n",
    "\n",
    "## Training models with experimental data\n",
    "___\n",
    "\n",
    "### 1.  Loading data from csv files"
   ]
  },
  {
   "cell_type": "code",
   "execution_count": 1,
   "id": "7034424b-edc3-4757-881b-9d9ddf15fc21",
   "metadata": {
    "tags": []
   },
   "outputs": [
    {
     "name": "stdout",
     "output_type": "stream",
     "text": [
      "Library example_lib already exists. Loading existing library...\n",
      "Loading library 'example_lib'...\n",
      "- Found representations of type 'esm2' in 'rep/esm2'.\n",
      "Loading done!\n",
      "100.0% of esm2 computed.\n"
     ]
    }
   ],
   "source": [
    "import sys\n",
    "sys.path.append('../src/')\n",
    "import proteusAI as pai\n",
    "\n",
    "# will initiate storage space - else in memory\n",
    "library = pai.Library(project='example_lib', overwrite=False) \n",
    "\n",
    "# load data from csv or excel: x should be sequences, y should be labels, y_type class or num\n",
    "library.read_data(data='demo_data/GB1_raw.csv', seqs='Sequence', y='Data', y_type='num', names='Description')\n",
    "\n",
    "\n",
    "# compute and save ESM-2 representations at example_lib/representations/esm2\n",
    "library.compute(method='esm2')"
   ]
  },
  {
   "cell_type": "markdown",
   "id": "a340b313-f9ce-4f1f-b354-0117fe3966cf",
   "metadata": {},
   "source": [
    "### 1.1 Loading data from fasta files"
   ]
  },
  {
   "cell_type": "code",
   "execution_count": 2,
   "id": "aa2102a3-6988-43ae-b51a-c48d4e790c3a",
   "metadata": {
    "tags": []
   },
   "outputs": [
    {
     "name": "stdout",
     "output_type": "stream",
     "text": [
      "0.0% of esm2 computed.\n",
      "100.0% of esm2 computed.\n"
     ]
    }
   ],
   "source": [
    "library.read_data(data='demo_data/GB1.fasta')\n",
    "\n",
    "names = []\n",
    "for prot in library.proteins:\n",
    "    name = prot.name.split('|')[1].replace('_', '+')\n",
    "    names.append(name)\n",
    "    \n",
    "library.rename_proteins(names)\n",
    "\n",
    "# compute and save ESM-2 representations at example_lib/representations/esm2\n",
    "library.compute(method='esm2')"
   ]
  },
  {
   "cell_type": "markdown",
   "id": "30260049-1552-4f99-ad14-b8468a3ef268",
   "metadata": {},
   "source": [
    "### 2. Training models"
   ]
  },
  {
   "cell_type": "code",
   "execution_count": null,
   "id": "7a786a24-b8d7-4f3d-85a9-22de0a5c3f58",
   "metadata": {},
   "outputs": [],
   "source": [
    "# Choose model type, random forest, linear regression, svm, ...\n",
    "#model = pai.Model(type='rf')\n",
    "\n",
    "# will save a model and report at models/rf/\n",
    "#model.train(lib=library, x='esm2', y='class', split='random')"
   ]
  },
  {
   "cell_type": "markdown",
   "id": "293efcd4-4431-4e4b-afae-3e99ec027058",
   "metadata": {},
   "source": [
    "### 3. Creating model ensembles"
   ]
  },
  {
   "cell_type": "code",
   "execution_count": null,
   "id": "69a4c24b-ff57-4081-990c-c4ecec17ed3e",
   "metadata": {},
   "outputs": [],
   "source": [
    "#ensemble = pai.Ensemble([model_1, model_2])"
   ]
  },
  {
   "cell_type": "markdown",
   "id": "880b8a01-748c-4d89-825e-3c8061c3816f",
   "metadata": {},
   "source": [
    "### 4. Loading existing libraries and models"
   ]
  },
  {
   "cell_type": "code",
   "execution_count": null,
   "id": "7a24275e-752e-4e35-96f6-c969a80fe7a7",
   "metadata": {},
   "outputs": [],
   "source": [
    "# load a library object\n",
    "#library = pai.Library.load(data='path/to/library')\n",
    "\n",
    "# load a model object\n",
    "#model = pai.Model.load(data='path/to/model')"
   ]
  },
  {
   "cell_type": "markdown",
   "id": "9b9e99d9-dcef-4d84-9c36-d801526c2a7d",
   "metadata": {},
   "source": [
    "### 5. Making predictions"
   ]
  },
  {
   "cell_type": "code",
   "execution_count": null,
   "id": "564e4df9-fca5-42bb-a87a-d1fdf6585ac6",
   "metadata": {},
   "outputs": [],
   "source": [
    "# load a library object\n",
    "#library = pai.Library.load(data='path/to/library')\n",
    "\n",
    "# load a model object\n",
    "#model = pai.Model.load(data='path/to/model')"
   ]
  },
  {
   "cell_type": "markdown",
   "id": "8b39ea82-7689-41c7-9b33-2fd730e9d3b5",
   "metadata": {},
   "source": [
    "### Visualizing library and model results"
   ]
  },
  {
   "cell_type": "code",
   "execution_count": null,
   "id": "f7c8c37b-8ebf-4e3d-8d13-dc048da25223",
   "metadata": {},
   "outputs": [],
   "source": [
    "# create tSNE plot of esm2 representations, colored by class\n",
    "#library.tsne(x='esm2', fname='path/to/plot/tSNE.png', show=True)"
   ]
  },
  {
   "cell_type": "markdown",
   "id": "073fea26-869a-406c-95db-45d31e1913cb",
   "metadata": {},
   "source": [
    "## Making zero-shot predictions\n",
    "___\n",
    "### 1. Creating a protein object"
   ]
  },
  {
   "cell_type": "code",
   "execution_count": 4,
   "id": "a28c00e9-7aa6-4c43-a228-0d2ae20516ac",
   "metadata": {},
   "outputs": [
    {
     "data": {
      "text/plain": [
       "proteusAI.Protein()\n",
       "___________________\n",
       "name\t: GB1_wt\n",
       "seq\t: MAPTLSEQTRQLVRASVPALQKHSVAISATMYRLLFERYPETRSLCELPERQIHKIASALLAYARSIDNPSALQAAIRRMVLSHARAGVQAVHYPLYWECLRDAIKEVLGPDATETLLQAWKEAYDFLAHLLSTKEAQVYAVLAE\n",
       "rep\t: []"
      ]
     },
     "execution_count": 4,
     "metadata": {},
     "output_type": "execute_result"
    }
   ],
   "source": [
    "# loading a protein from a fasta file\n",
    "protein = pai.Protein.load_fasta('demo_data/GB1_wt.fasta')\n",
    "protein"
   ]
  },
  {
   "cell_type": "markdown",
   "id": "457bb522-60a0-4a67-b9f3-f54c3726bb21",
   "metadata": {},
   "source": [
    "### 2. Create a library"
   ]
  },
  {
   "cell_type": "code",
   "execution_count": null,
   "id": "6419affa-65a8-4fb6-b6bd-d93641e64bd8",
   "metadata": {},
   "outputs": [],
   "source": [
    "# create a deep-mutational scanning library\n",
    "#library = protein.DMS(name='dms')\n",
    "#library"
   ]
  },
  {
   "cell_type": "markdown",
   "id": "2d46e8fb-fc12-4aad-9246-32dc1bacf97b",
   "metadata": {},
   "source": [
    "### Compute scores"
   ]
  },
  {
   "cell_type": "code",
   "execution_count": null,
   "id": "9f15ed8c-3100-4b32-ad6c-34d45bdf88f7",
   "metadata": {},
   "outputs": [],
   "source": [
    "# create zero-shot scores using the ESM-2 model and the masked-marginal probability metric\n",
    "#library.zs_prediction(model='esm2', method='mmp')\n",
    "#library"
   ]
  },
  {
   "cell_type": "code",
   "execution_count": null,
   "id": "b8ebb5ea-c9a4-4885-8e25-34b1cb51b0fa",
   "metadata": {},
   "outputs": [],
   "source": [
    "# inspect results\n",
    "#scores = library.zs_scores()\n",
    "#scores"
   ]
  },
  {
   "cell_type": "markdown",
   "id": "e02d3f46-5e5c-44bd-9877-55e0e65c046e",
   "metadata": {},
   "source": [
    "## Training VAEs\n",
    "___\n",
    "### 1. loading MSA"
   ]
  },
  {
   "cell_type": "code",
   "execution_count": null,
   "id": "28a509dc-5341-4253-b292-97de5742a577",
   "metadata": {},
   "outputs": [],
   "source": [
    "# different formats can be provided \n",
    "#msa = pai.Library.load_msa(name='msa', data='msa.fasta')\n",
    "#msa"
   ]
  },
  {
   "cell_type": "markdown",
   "id": "416ba22e-1896-443f-8b65-7efdb564a4ff",
   "metadata": {},
   "source": [
    "### 2. Training a VAE"
   ]
  },
  {
   "cell_type": "code",
   "execution_count": null,
   "id": "1da017a2-fd39-440e-9e87-5847912fccae",
   "metadata": {},
   "outputs": [],
   "source": [
    "#vae = pai.Model(type='vae', layers=[2000, 1000, 500], z_dim=200)\n",
    "#vae = vae.train(lib=msa)"
   ]
  },
  {
   "cell_type": "markdown",
   "id": "4cfe1800-2034-418a-b1b4-3728949d8959",
   "metadata": {},
   "source": [
    "### 3. Use the VAE to create representations"
   ]
  },
  {
   "cell_type": "code",
   "execution_count": null,
   "id": "a8b733f2-f5e3-4da6-ac0a-a1d3723483cc",
   "metadata": {},
   "outputs": [],
   "source": [
    "#msa.compute(method='vae', model=vae)"
   ]
  },
  {
   "cell_type": "markdown",
   "id": "06578ccc-7f5a-4367-9075-b33b6c6e008c",
   "metadata": {},
   "source": [
    "### 4. Finetune VAE"
   ]
  },
  {
   "cell_type": "code",
   "execution_count": null,
   "id": "4912b52f-e409-40c5-80ba-4a895f2f9f3c",
   "metadata": {},
   "outputs": [],
   "source": [
    "# load library with experimental data\n",
    "#library = pai.Library.load(data='path/to/library')\n",
    "\n",
    "# fine tune VAE\n",
    "#model = pai.Model(lib=library, fine_tune=vae)"
   ]
  }
 ],
 "metadata": {
  "kernelspec": {
   "display_name": "Python 3 (ipykernel)",
   "language": "python",
   "name": "python3"
  },
  "language_info": {
   "codemirror_mode": {
    "name": "ipython",
    "version": 3
   },
   "file_extension": ".py",
   "mimetype": "text/x-python",
   "name": "python",
   "nbconvert_exporter": "python",
   "pygments_lexer": "ipython3",
   "version": "3.8.16"
  }
 },
 "nbformat": 4,
 "nbformat_minor": 5
}
