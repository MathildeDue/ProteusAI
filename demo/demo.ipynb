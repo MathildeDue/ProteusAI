{
 "cells": [
  {
   "cell_type": "markdown",
   "id": "592b71d3-0aa9-4ed3-93cb-0951850081fa",
   "metadata": {},
   "source": [
    "# Getting started\n",
    "___\n",
    "The following illustrates the basic functionalities of the proteusAI package, such as training machine learning models using experimental data, performing zero-shot predictions and visualizing results. \n",
    "\n",
    "## Training models with experimental data\n",
    "___\n",
    "\n",
    "### 1.  Loading data from csv files"
   ]
  },
  {
   "cell_type": "code",
   "execution_count": 9,
   "id": "aefe9e91-e7f7-476c-b3da-0f2b63dbdf11",
   "metadata": {},
   "outputs": [
    {
     "data": {
      "text/plain": [
       "'/home/jonfunk/ProteusAI/demo'"
      ]
     },
     "execution_count": 9,
     "metadata": {},
     "output_type": "execute_result"
    }
   ],
   "source": [
    "import os\n",
    "os.getcwd()"
   ]
  },
  {
   "cell_type": "code",
   "execution_count": 10,
   "id": "7034424b-edc3-4757-881b-9d9ddf15fc21",
   "metadata": {
    "tags": []
   },
   "outputs": [
    {
     "name": "stdout",
     "output_type": "stream",
     "text": [
      "User guest already exists. Loading existing data...\n",
      "Initializing user 'guest'...\n",
      "Done!\n",
      "Loading library 'guest'...\n",
      "- Found representations of type 'esm2' in 'rep/esm2'.\n",
      "Loading done!\n",
      "computing 446 proteins\n"
     ]
    },
    {
     "ename": "OutOfMemoryError",
     "evalue": "CUDA out of memory. Tried to allocate 26.00 MiB. GPU 0 has a total capacity of 15.77 GiB of which 18.19 MiB is free. Including non-PyTorch memory, this process has 15.74 GiB memory in use. Of the allocated memory 15.17 GiB is allocated by PyTorch, and 211.04 MiB is reserved by PyTorch but unallocated. If reserved but unallocated memory is large try setting PYTORCH_CUDA_ALLOC_CONF=expandable_segments:True to avoid fragmentation.  See documentation for Memory Management  (https://pytorch.org/docs/stable/notes/cuda.html#environment-variables)",
     "output_type": "error",
     "traceback": [
      "\u001b[0;31m---------------------------------------------------------------------------\u001b[0m",
      "\u001b[0;31mOutOfMemoryError\u001b[0m                          Traceback (most recent call last)",
      "Cell \u001b[0;32mIn[10], line 12\u001b[0m\n\u001b[1;32m      9\u001b[0m library\u001b[38;5;241m.\u001b[39mread_data(data\u001b[38;5;241m=\u001b[39m\u001b[38;5;124m'\u001b[39m\u001b[38;5;124mdemo_data/Nitric_Oxide_Dioxygenase_raw.csv\u001b[39m\u001b[38;5;124m'\u001b[39m, seqs\u001b[38;5;241m=\u001b[39m\u001b[38;5;124m'\u001b[39m\u001b[38;5;124mSequence\u001b[39m\u001b[38;5;124m'\u001b[39m, y\u001b[38;5;241m=\u001b[39m\u001b[38;5;124m'\u001b[39m\u001b[38;5;124mData\u001b[39m\u001b[38;5;124m'\u001b[39m, y_type\u001b[38;5;241m=\u001b[39m\u001b[38;5;124m'\u001b[39m\u001b[38;5;124mnum\u001b[39m\u001b[38;5;124m'\u001b[39m, names\u001b[38;5;241m=\u001b[39m\u001b[38;5;124m'\u001b[39m\u001b[38;5;124mDescription\u001b[39m\u001b[38;5;124m'\u001b[39m)\n\u001b[1;32m     11\u001b[0m \u001b[38;5;66;03m# compute and save ESM-2 representations at example_lib/representations/esm2\u001b[39;00m\n\u001b[0;32m---> 12\u001b[0m \u001b[43mlibrary\u001b[49m\u001b[38;5;241;43m.\u001b[39;49m\u001b[43mcompute\u001b[49m\u001b[43m(\u001b[49m\u001b[43mmethod\u001b[49m\u001b[38;5;241;43m=\u001b[39;49m\u001b[38;5;124;43m'\u001b[39;49m\u001b[38;5;124;43mesm2\u001b[39;49m\u001b[38;5;124;43m'\u001b[39;49m\u001b[43m,\u001b[49m\u001b[43m \u001b[49m\u001b[43mbatch_size\u001b[49m\u001b[38;5;241;43m=\u001b[39;49m\u001b[38;5;241;43m10\u001b[39;49m\u001b[43m)\u001b[49m\n",
      "File \u001b[0;32m~/ProteusAI/demo/../src/proteusAI/Library/library.py:336\u001b[0m, in \u001b[0;36mLibrary.compute\u001b[0;34m(self, method, batch_size, dest, pbar)\u001b[0m\n\u001b[1;32m    333\u001b[0m \u001b[38;5;28;01massert\u001b[39;00m \u001b[38;5;28misinstance\u001b[39m(batch_size, (\u001b[38;5;28mint\u001b[39m, \u001b[38;5;28mtype\u001b[39m(\u001b[38;5;28;01mNone\u001b[39;00m)))\n\u001b[1;32m    335\u001b[0m \u001b[38;5;28;01mif\u001b[39;00m method \u001b[38;5;129;01min\u001b[39;00m [\u001b[38;5;124m\"\u001b[39m\u001b[38;5;124mesm2\u001b[39m\u001b[38;5;124m\"\u001b[39m, \u001b[38;5;124m\"\u001b[39m\u001b[38;5;124mesm1v\u001b[39m\u001b[38;5;124m\"\u001b[39m]:\n\u001b[0;32m--> 336\u001b[0m     \u001b[38;5;28;43mself\u001b[39;49m\u001b[38;5;241;43m.\u001b[39;49m\u001b[43mesm_builder\u001b[49m\u001b[43m(\u001b[49m\u001b[43mmodel\u001b[49m\u001b[38;5;241;43m=\u001b[39;49m\u001b[43mmethod\u001b[49m\u001b[43m,\u001b[49m\u001b[43m \u001b[49m\u001b[43mbatch_size\u001b[49m\u001b[38;5;241;43m=\u001b[39;49m\u001b[43mbatch_size\u001b[49m\u001b[43m,\u001b[49m\u001b[43m \u001b[49m\u001b[43mdest\u001b[49m\u001b[38;5;241;43m=\u001b[39;49m\u001b[43mdest\u001b[49m\u001b[43m,\u001b[49m\u001b[43m \u001b[49m\u001b[43mpbar\u001b[49m\u001b[38;5;241;43m=\u001b[39;49m\u001b[43mpbar\u001b[49m\u001b[43m)\u001b[49m\n\u001b[1;32m    337\u001b[0m \u001b[38;5;28;01melif\u001b[39;00m method \u001b[38;5;241m==\u001b[39m \u001b[38;5;124m'\u001b[39m\u001b[38;5;124mohe\u001b[39m\u001b[38;5;124m'\u001b[39m:\n\u001b[1;32m    338\u001b[0m     \u001b[38;5;28mself\u001b[39m\u001b[38;5;241m.\u001b[39mohe_builder(dest\u001b[38;5;241m=\u001b[39mdest, pbar\u001b[38;5;241m=\u001b[39mpbar)\n",
      "File \u001b[0;32m~/ProteusAI/demo/../src/proteusAI/Library/library.py:375\u001b[0m, in \u001b[0;36mLibrary.esm_builder\u001b[0;34m(self, model, batch_size, dest, pbar)\u001b[0m\n\u001b[1;32m    372\u001b[0m seqs \u001b[38;5;241m=\u001b[39m [protein\u001b[38;5;241m.\u001b[39mseq \u001b[38;5;28;01mfor\u001b[39;00m protein \u001b[38;5;129;01min\u001b[39;00m proteins_to_compute]\n\u001b[1;32m    374\u001b[0m \u001b[38;5;66;03m# compute representations\u001b[39;00m\n\u001b[0;32m--> 375\u001b[0m \u001b[43mesm_tools\u001b[49m\u001b[38;5;241;43m.\u001b[39;49m\u001b[43mbatch_compute\u001b[49m\u001b[43m(\u001b[49m\u001b[43mseqs\u001b[49m\u001b[43m,\u001b[49m\u001b[43m \u001b[49m\u001b[43mnames\u001b[49m\u001b[43m,\u001b[49m\u001b[43m \u001b[49m\u001b[43mdest\u001b[49m\u001b[38;5;241;43m=\u001b[39;49m\u001b[43mdest\u001b[49m\u001b[43m,\u001b[49m\u001b[43m \u001b[49m\u001b[43mmodel\u001b[49m\u001b[38;5;241;43m=\u001b[39;49m\u001b[43mmodel\u001b[49m\u001b[43m,\u001b[49m\u001b[43m \u001b[49m\u001b[43mbatch_size\u001b[49m\u001b[38;5;241;43m=\u001b[39;49m\u001b[43mbatch_size\u001b[49m\u001b[43m,\u001b[49m\u001b[43m \u001b[49m\u001b[43mpbar\u001b[49m\u001b[38;5;241;43m=\u001b[39;49m\u001b[43mpbar\u001b[49m\u001b[43m)\u001b[49m\n\u001b[1;32m    377\u001b[0m \u001b[38;5;28;01mfor\u001b[39;00m protein \u001b[38;5;129;01min\u001b[39;00m proteins_to_compute:\n\u001b[1;32m    378\u001b[0m     \u001b[38;5;28;01mif\u001b[39;00m model \u001b[38;5;129;01mnot\u001b[39;00m \u001b[38;5;129;01min\u001b[39;00m protein\u001b[38;5;241m.\u001b[39mreps:\n",
      "File \u001b[0;32m~/ProteusAI/demo/../src/proteusAI/ml_tools/esm_tools/esm_tools.py:179\u001b[0m, in \u001b[0;36mbatch_compute\u001b[0;34m(seqs, names, fasta_path, dest, model, batch_size, rep_layer, pbar)\u001b[0m\n\u001b[1;32m    177\u001b[0m counter \u001b[38;5;241m=\u001b[39m \u001b[38;5;241m0\u001b[39m\n\u001b[1;32m    178\u001b[0m \u001b[38;5;28;01mfor\u001b[39;00m i \u001b[38;5;129;01min\u001b[39;00m \u001b[38;5;28mrange\u001b[39m(\u001b[38;5;241m0\u001b[39m, \u001b[38;5;28mlen\u001b[39m(seqs), batch_size):\n\u001b[0;32m--> 179\u001b[0m     results, batch_lens, _, _ \u001b[38;5;241m=\u001b[39m \u001b[43mesm_compute\u001b[49m\u001b[43m(\u001b[49m\u001b[43mseqs\u001b[49m\u001b[43m[\u001b[49m\u001b[43mi\u001b[49m\u001b[43m:\u001b[49m\u001b[43mi\u001b[49m\u001b[43m \u001b[49m\u001b[38;5;241;43m+\u001b[39;49m\u001b[43m \u001b[49m\u001b[43mbatch_size\u001b[49m\u001b[43m]\u001b[49m\u001b[43m,\u001b[49m\u001b[43m \u001b[49m\u001b[43mnames\u001b[49m\u001b[43m[\u001b[49m\u001b[43mi\u001b[49m\u001b[43m:\u001b[49m\u001b[43mi\u001b[49m\u001b[43m \u001b[49m\u001b[38;5;241;43m+\u001b[39;49m\u001b[43m \u001b[49m\u001b[43mbatch_size\u001b[49m\u001b[43m]\u001b[49m\u001b[43m,\u001b[49m\u001b[43m \u001b[49m\u001b[43mmodel\u001b[49m\u001b[38;5;241;43m=\u001b[39;49m\u001b[43mmodel\u001b[49m\u001b[43m,\u001b[49m\u001b[43m \u001b[49m\u001b[43mrep_layer\u001b[49m\u001b[38;5;241;43m=\u001b[39;49m\u001b[43mrep_layer\u001b[49m\u001b[43m)\u001b[49m\n\u001b[1;32m    180\u001b[0m     sequence_representations \u001b[38;5;241m=\u001b[39m get_seq_rep(results, batch_lens)\n\u001b[1;32m    181\u001b[0m     \u001b[38;5;28;01mif\u001b[39;00m dest \u001b[38;5;129;01mis\u001b[39;00m \u001b[38;5;129;01mnot\u001b[39;00m \u001b[38;5;28;01mNone\u001b[39;00m:\n",
      "File \u001b[0;32m~/ProteusAI/demo/../src/proteusAI/ml_tools/esm_tools/esm_tools.py:75\u001b[0m, in \u001b[0;36mesm_compute\u001b[0;34m(seqs, names, model, rep_layer)\u001b[0m\n\u001b[1;32m     73\u001b[0m batch_converter \u001b[38;5;241m=\u001b[39m alphabet\u001b[38;5;241m.\u001b[39mget_batch_converter()\n\u001b[1;32m     74\u001b[0m model\u001b[38;5;241m.\u001b[39meval()\n\u001b[0;32m---> 75\u001b[0m \u001b[43mmodel\u001b[49m\u001b[38;5;241;43m.\u001b[39;49m\u001b[43mto\u001b[49m\u001b[43m(\u001b[49m\u001b[43mdevice\u001b[49m\u001b[43m)\u001b[49m\n\u001b[1;32m     77\u001b[0m \u001b[38;5;28;01mif\u001b[39;00m names \u001b[38;5;241m==\u001b[39m \u001b[38;5;28;01mNone\u001b[39;00m:\n\u001b[1;32m     78\u001b[0m     names \u001b[38;5;241m=\u001b[39m names \u001b[38;5;241m=\u001b[39m [\u001b[38;5;124mf\u001b[39m\u001b[38;5;124m'\u001b[39m\u001b[38;5;124mseq\u001b[39m\u001b[38;5;132;01m{\u001b[39;00mi\u001b[38;5;132;01m}\u001b[39;00m\u001b[38;5;124m'\u001b[39m \u001b[38;5;28;01mfor\u001b[39;00m i \u001b[38;5;129;01min\u001b[39;00m \u001b[38;5;28mrange\u001b[39m(\u001b[38;5;28mlen\u001b[39m(seqs))]\n",
      "File \u001b[0;32m~/.local/lib/python3.8/site-packages/torch/nn/modules/module.py:1152\u001b[0m, in \u001b[0;36mModule.to\u001b[0;34m(self, *args, **kwargs)\u001b[0m\n\u001b[1;32m   1148\u001b[0m         \u001b[38;5;28;01mreturn\u001b[39;00m t\u001b[38;5;241m.\u001b[39mto(device, dtype \u001b[38;5;28;01mif\u001b[39;00m t\u001b[38;5;241m.\u001b[39mis_floating_point() \u001b[38;5;129;01mor\u001b[39;00m t\u001b[38;5;241m.\u001b[39mis_complex() \u001b[38;5;28;01melse\u001b[39;00m \u001b[38;5;28;01mNone\u001b[39;00m,\n\u001b[1;32m   1149\u001b[0m                     non_blocking, memory_format\u001b[38;5;241m=\u001b[39mconvert_to_format)\n\u001b[1;32m   1150\u001b[0m     \u001b[38;5;28;01mreturn\u001b[39;00m t\u001b[38;5;241m.\u001b[39mto(device, dtype \u001b[38;5;28;01mif\u001b[39;00m t\u001b[38;5;241m.\u001b[39mis_floating_point() \u001b[38;5;129;01mor\u001b[39;00m t\u001b[38;5;241m.\u001b[39mis_complex() \u001b[38;5;28;01melse\u001b[39;00m \u001b[38;5;28;01mNone\u001b[39;00m, non_blocking)\n\u001b[0;32m-> 1152\u001b[0m \u001b[38;5;28;01mreturn\u001b[39;00m \u001b[38;5;28;43mself\u001b[39;49m\u001b[38;5;241;43m.\u001b[39;49m\u001b[43m_apply\u001b[49m\u001b[43m(\u001b[49m\u001b[43mconvert\u001b[49m\u001b[43m)\u001b[49m\n",
      "File \u001b[0;32m~/.local/lib/python3.8/site-packages/torch/nn/modules/module.py:802\u001b[0m, in \u001b[0;36mModule._apply\u001b[0;34m(self, fn, recurse)\u001b[0m\n\u001b[1;32m    800\u001b[0m \u001b[38;5;28;01mif\u001b[39;00m recurse:\n\u001b[1;32m    801\u001b[0m     \u001b[38;5;28;01mfor\u001b[39;00m module \u001b[38;5;129;01min\u001b[39;00m \u001b[38;5;28mself\u001b[39m\u001b[38;5;241m.\u001b[39mchildren():\n\u001b[0;32m--> 802\u001b[0m         \u001b[43mmodule\u001b[49m\u001b[38;5;241;43m.\u001b[39;49m\u001b[43m_apply\u001b[49m\u001b[43m(\u001b[49m\u001b[43mfn\u001b[49m\u001b[43m)\u001b[49m\n\u001b[1;32m    804\u001b[0m \u001b[38;5;28;01mdef\u001b[39;00m \u001b[38;5;21mcompute_should_use_set_data\u001b[39m(tensor, tensor_applied):\n\u001b[1;32m    805\u001b[0m     \u001b[38;5;28;01mif\u001b[39;00m torch\u001b[38;5;241m.\u001b[39m_has_compatible_shallow_copy_type(tensor, tensor_applied):\n\u001b[1;32m    806\u001b[0m         \u001b[38;5;66;03m# If the new tensor has compatible tensor type as the existing tensor,\u001b[39;00m\n\u001b[1;32m    807\u001b[0m         \u001b[38;5;66;03m# the current behavior is to change the tensor in-place using `.data =`,\u001b[39;00m\n\u001b[0;32m   (...)\u001b[0m\n\u001b[1;32m    812\u001b[0m         \u001b[38;5;66;03m# global flag to let the user control whether they want the future\u001b[39;00m\n\u001b[1;32m    813\u001b[0m         \u001b[38;5;66;03m# behavior of overwriting the existing tensor or not.\u001b[39;00m\n",
      "File \u001b[0;32m~/.local/lib/python3.8/site-packages/torch/nn/modules/module.py:802\u001b[0m, in \u001b[0;36mModule._apply\u001b[0;34m(self, fn, recurse)\u001b[0m\n\u001b[1;32m    800\u001b[0m \u001b[38;5;28;01mif\u001b[39;00m recurse:\n\u001b[1;32m    801\u001b[0m     \u001b[38;5;28;01mfor\u001b[39;00m module \u001b[38;5;129;01min\u001b[39;00m \u001b[38;5;28mself\u001b[39m\u001b[38;5;241m.\u001b[39mchildren():\n\u001b[0;32m--> 802\u001b[0m         \u001b[43mmodule\u001b[49m\u001b[38;5;241;43m.\u001b[39;49m\u001b[43m_apply\u001b[49m\u001b[43m(\u001b[49m\u001b[43mfn\u001b[49m\u001b[43m)\u001b[49m\n\u001b[1;32m    804\u001b[0m \u001b[38;5;28;01mdef\u001b[39;00m \u001b[38;5;21mcompute_should_use_set_data\u001b[39m(tensor, tensor_applied):\n\u001b[1;32m    805\u001b[0m     \u001b[38;5;28;01mif\u001b[39;00m torch\u001b[38;5;241m.\u001b[39m_has_compatible_shallow_copy_type(tensor, tensor_applied):\n\u001b[1;32m    806\u001b[0m         \u001b[38;5;66;03m# If the new tensor has compatible tensor type as the existing tensor,\u001b[39;00m\n\u001b[1;32m    807\u001b[0m         \u001b[38;5;66;03m# the current behavior is to change the tensor in-place using `.data =`,\u001b[39;00m\n\u001b[0;32m   (...)\u001b[0m\n\u001b[1;32m    812\u001b[0m         \u001b[38;5;66;03m# global flag to let the user control whether they want the future\u001b[39;00m\n\u001b[1;32m    813\u001b[0m         \u001b[38;5;66;03m# behavior of overwriting the existing tensor or not.\u001b[39;00m\n",
      "File \u001b[0;32m~/.local/lib/python3.8/site-packages/torch/nn/modules/module.py:802\u001b[0m, in \u001b[0;36mModule._apply\u001b[0;34m(self, fn, recurse)\u001b[0m\n\u001b[1;32m    800\u001b[0m \u001b[38;5;28;01mif\u001b[39;00m recurse:\n\u001b[1;32m    801\u001b[0m     \u001b[38;5;28;01mfor\u001b[39;00m module \u001b[38;5;129;01min\u001b[39;00m \u001b[38;5;28mself\u001b[39m\u001b[38;5;241m.\u001b[39mchildren():\n\u001b[0;32m--> 802\u001b[0m         \u001b[43mmodule\u001b[49m\u001b[38;5;241;43m.\u001b[39;49m\u001b[43m_apply\u001b[49m\u001b[43m(\u001b[49m\u001b[43mfn\u001b[49m\u001b[43m)\u001b[49m\n\u001b[1;32m    804\u001b[0m \u001b[38;5;28;01mdef\u001b[39;00m \u001b[38;5;21mcompute_should_use_set_data\u001b[39m(tensor, tensor_applied):\n\u001b[1;32m    805\u001b[0m     \u001b[38;5;28;01mif\u001b[39;00m torch\u001b[38;5;241m.\u001b[39m_has_compatible_shallow_copy_type(tensor, tensor_applied):\n\u001b[1;32m    806\u001b[0m         \u001b[38;5;66;03m# If the new tensor has compatible tensor type as the existing tensor,\u001b[39;00m\n\u001b[1;32m    807\u001b[0m         \u001b[38;5;66;03m# the current behavior is to change the tensor in-place using `.data =`,\u001b[39;00m\n\u001b[0;32m   (...)\u001b[0m\n\u001b[1;32m    812\u001b[0m         \u001b[38;5;66;03m# global flag to let the user control whether they want the future\u001b[39;00m\n\u001b[1;32m    813\u001b[0m         \u001b[38;5;66;03m# behavior of overwriting the existing tensor or not.\u001b[39;00m\n",
      "File \u001b[0;32m~/.local/lib/python3.8/site-packages/torch/nn/modules/module.py:825\u001b[0m, in \u001b[0;36mModule._apply\u001b[0;34m(self, fn, recurse)\u001b[0m\n\u001b[1;32m    821\u001b[0m \u001b[38;5;66;03m# Tensors stored in modules are graph leaves, and we don't want to\u001b[39;00m\n\u001b[1;32m    822\u001b[0m \u001b[38;5;66;03m# track autograd history of `param_applied`, so we have to use\u001b[39;00m\n\u001b[1;32m    823\u001b[0m \u001b[38;5;66;03m# `with torch.no_grad():`\u001b[39;00m\n\u001b[1;32m    824\u001b[0m \u001b[38;5;28;01mwith\u001b[39;00m torch\u001b[38;5;241m.\u001b[39mno_grad():\n\u001b[0;32m--> 825\u001b[0m     param_applied \u001b[38;5;241m=\u001b[39m \u001b[43mfn\u001b[49m\u001b[43m(\u001b[49m\u001b[43mparam\u001b[49m\u001b[43m)\u001b[49m\n\u001b[1;32m    826\u001b[0m should_use_set_data \u001b[38;5;241m=\u001b[39m compute_should_use_set_data(param, param_applied)\n\u001b[1;32m    827\u001b[0m \u001b[38;5;28;01mif\u001b[39;00m should_use_set_data:\n",
      "File \u001b[0;32m~/.local/lib/python3.8/site-packages/torch/nn/modules/module.py:1150\u001b[0m, in \u001b[0;36mModule.to.<locals>.convert\u001b[0;34m(t)\u001b[0m\n\u001b[1;32m   1147\u001b[0m \u001b[38;5;28;01mif\u001b[39;00m convert_to_format \u001b[38;5;129;01mis\u001b[39;00m \u001b[38;5;129;01mnot\u001b[39;00m \u001b[38;5;28;01mNone\u001b[39;00m \u001b[38;5;129;01mand\u001b[39;00m t\u001b[38;5;241m.\u001b[39mdim() \u001b[38;5;129;01min\u001b[39;00m (\u001b[38;5;241m4\u001b[39m, \u001b[38;5;241m5\u001b[39m):\n\u001b[1;32m   1148\u001b[0m     \u001b[38;5;28;01mreturn\u001b[39;00m t\u001b[38;5;241m.\u001b[39mto(device, dtype \u001b[38;5;28;01mif\u001b[39;00m t\u001b[38;5;241m.\u001b[39mis_floating_point() \u001b[38;5;129;01mor\u001b[39;00m t\u001b[38;5;241m.\u001b[39mis_complex() \u001b[38;5;28;01melse\u001b[39;00m \u001b[38;5;28;01mNone\u001b[39;00m,\n\u001b[1;32m   1149\u001b[0m                 non_blocking, memory_format\u001b[38;5;241m=\u001b[39mconvert_to_format)\n\u001b[0;32m-> 1150\u001b[0m \u001b[38;5;28;01mreturn\u001b[39;00m \u001b[43mt\u001b[49m\u001b[38;5;241;43m.\u001b[39;49m\u001b[43mto\u001b[49m\u001b[43m(\u001b[49m\u001b[43mdevice\u001b[49m\u001b[43m,\u001b[49m\u001b[43m \u001b[49m\u001b[43mdtype\u001b[49m\u001b[43m \u001b[49m\u001b[38;5;28;43;01mif\u001b[39;49;00m\u001b[43m \u001b[49m\u001b[43mt\u001b[49m\u001b[38;5;241;43m.\u001b[39;49m\u001b[43mis_floating_point\u001b[49m\u001b[43m(\u001b[49m\u001b[43m)\u001b[49m\u001b[43m \u001b[49m\u001b[38;5;129;43;01mor\u001b[39;49;00m\u001b[43m \u001b[49m\u001b[43mt\u001b[49m\u001b[38;5;241;43m.\u001b[39;49m\u001b[43mis_complex\u001b[49m\u001b[43m(\u001b[49m\u001b[43m)\u001b[49m\u001b[43m \u001b[49m\u001b[38;5;28;43;01melse\u001b[39;49;00m\u001b[43m \u001b[49m\u001b[38;5;28;43;01mNone\u001b[39;49;00m\u001b[43m,\u001b[49m\u001b[43m \u001b[49m\u001b[43mnon_blocking\u001b[49m\u001b[43m)\u001b[49m\n",
      "\u001b[0;31mOutOfMemoryError\u001b[0m: CUDA out of memory. Tried to allocate 26.00 MiB. GPU 0 has a total capacity of 15.77 GiB of which 18.19 MiB is free. Including non-PyTorch memory, this process has 15.74 GiB memory in use. Of the allocated memory 15.17 GiB is allocated by PyTorch, and 211.04 MiB is reserved by PyTorch but unallocated. If reserved but unallocated memory is large try setting PYTORCH_CUDA_ALLOC_CONF=expandable_segments:True to avoid fragmentation.  See documentation for Memory Management  (https://pytorch.org/docs/stable/notes/cuda.html#environment-variables)"
     ]
    }
   ],
   "source": [
    "import sys\n",
    "sys.path.append('../src/')\n",
    "import proteusAI as pai\n",
    "\n",
    "# will initiate storage space - else in memory\n",
    "library = pai.Library(user='guest', overwrite=False) \n",
    "\n",
    "# load data from csv or excel: x should be sequences, y should be labels, y_type class or num\n",
    "library.read_data(data='demo_data/Nitric_Oxide_Dioxygenase_raw.csv', seqs='Sequence', y='Data', y_type='num', names='Description')\n",
    "\n",
    "# compute and save ESM-2 representations at example_lib/representations/esm2\n",
    "library.compute(method='esm2', batch_size=10)"
   ]
  },
  {
   "cell_type": "markdown",
   "id": "30260049-1552-4f99-ad14-b8468a3ef268",
   "metadata": {},
   "source": [
    "### 2. Training models"
   ]
  },
  {
   "cell_type": "code",
   "execution_count": 4,
   "id": "7a786a24-b8d7-4f3d-85a9-22de0a5c3f58",
   "metadata": {},
   "outputs": [],
   "source": [
    "# Choose model type, random forest, linear regression, svm, ...\n",
    "model = pai.Model(model_type='knn')\n",
    "\n",
    "# will save a model and report at models/rf/\n",
    "model.train(library=library, x='esm2', split='random')"
   ]
  },
  {
   "cell_type": "code",
   "execution_count": 5,
   "id": "f4a2e05c-7d3f-47e1-8465-0eea2dc98f8a",
   "metadata": {},
   "outputs": [
    {
     "data": {
      "text/plain": [
       "(<Figure size 1000x500 with 1 Axes>,\n",
       " <Axes: title={'center': 'Predicted vs. True y-values'}, xlabel='y', ylabel='predicted y'>)"
      ]
     },
     "execution_count": 5,
     "metadata": {},
     "output_type": "execute_result"
    },
    {
     "data": {
      "image/png": "[encoded data removed]",
      "text/plain": [
       "<Figure size 1000x500 with 1 Axes>"
      ]
     },
     "metadata": {},
     "output_type": "display_data"
    }
   ],
   "source": [
    "y_t = model.y_val\n",
    "y_p = model.y_val_pred\n",
    "model.true_vs_predicted(y_t, y_p, file='val_predicted_vs_true.png')"
   ]
  },
  {
   "cell_type": "markdown",
   "id": "073fea26-869a-406c-95db-45d31e1913cb",
   "metadata": {},
   "source": [
    "## Making zero-shot predictions\n",
    "___\n",
    "### 1. Creating a protein object"
   ]
  },
  {
   "cell_type": "code",
   "execution_count": 1,
   "id": "a28c00e9-7aa6-4c43-a228-0d2ae20516ac",
   "metadata": {},
   "outputs": [
    {
     "data": {
      "text/plain": [
       "proteusAI.Protein():\n",
       "____________________\n",
       "name\t: wt|GB1\n",
       "seq\t: MAPTLSEQTRQLVRASVPALQKHSVAISATMYRLLFERYPETRSLCELPERQIHKIASALLAYARSIDNPSALQAAIRRMVLSHARAGVQAVHYPLYWECLRDAIKEVLGPDATETLLQAWKEAYDFLAHLLSTKEAQVYAVLAE\n",
       "rep\t: []\n",
       "y\tNone"
      ]
     },
     "execution_count": 1,
     "metadata": {},
     "output_type": "execute_result"
    }
   ],
   "source": [
    "import sys\n",
    "sys.path.append('../src/')\n",
    "import proteusAI as pai\n",
    "\n",
    "# loading a protein from a fasta file\n",
    "protein = pai.Protein.load_fasta('demo_data/GB1_wt.fasta')\n",
    "protein"
   ]
  },
  {
   "cell_type": "code",
   "execution_count": 2,
   "id": "31f0e86a-67f1-4c4f-92b3-34322ad17590",
   "metadata": {},
   "outputs": [
    {
     "data": {
      "text/plain": [
       "'example_project/'"
      ]
     },
     "execution_count": 2,
     "metadata": {},
     "output_type": "execute_result"
    }
   ],
   "source": [
    "protein.path = 'example_project/'\n",
    "protein.path"
   ]
  },
  {
   "cell_type": "markdown",
   "id": "e02d3f46-5e5c-44bd-9877-55e0e65c046e",
   "metadata": {},
   "source": [
    "## Structure based design\n",
    "___\n",
    "### 1. loading structure"
   ]
  },
  {
   "cell_type": "code",
   "execution_count": 1,
   "id": "2b0ef30a-f993-4c77-b343-facf04d0b0a3",
   "metadata": {},
   "outputs": [
    {
     "name": "stdout",
     "output_type": "stream",
     "text": [
      "<class 'esm.data.Alphabet'>\n"
     ]
    },
    {
     "name": "stderr",
     "output_type": "stream",
     "text": [
      "/Users/jonathanfunk/miniforge3/envs/proteusAI/lib/python3.11/site-packages/esm/pretrained.py:215: UserWarning: Regression weights not found, predicting contacts will not produce correct results.\n",
      "  warnings.warn(\n"
     ]
    }
   ],
   "source": [
    "import sys\n",
    "sys.path.append('../src/')\n",
    "import proteusAI as pai\n",
    "import argparse\n",
    "import numpy as np\n",
    "from pathlib import Path\n",
    "import torch\n",
    "import torch.nn.functional as F\n",
    "import esm\n",
    "import esm.inverse_folding\n",
    "import esm.inverse_folding.util\n",
    "from esm.inverse_folding.util import CoordBatchConverter\n",
    "\n",
    "# Example of using the function without specifying an output path\n",
    "model, alphabet = esm.pretrained.esm_if1_gvp4_t16_142M_UR50()\n",
    "print(type(alphabet))\n",
    "pdbfile = \"demo_data/GB1.pdb\"\n",
    "chain = \"A\"\n",
    "fixed = [1,2,3,4,5,6]"
   ]
  },
  {
   "cell_type": "code",
   "execution_count": 2,
   "id": "569f1e66-3df1-4d25-ae7b-f59ea4ed3d2a",
   "metadata": {},
   "outputs": [
    {
     "data": {
      "text/plain": [
       "proteusAI.Protein():\n",
       "____________________\n",
       "name\t: GB1\n",
       "seq\t: None\n",
       "rep\t: []\n",
       "y:\tNone\n",
       "struc:\tdemo_data/GB1.pdb"
      ]
     },
     "execution_count": 2,
     "metadata": {},
     "output_type": "execute_result"
    }
   ],
   "source": [
    "prot = pai.Protein(struc=pdbfile)\n",
    "prot"
   ]
  },
  {
   "cell_type": "code",
   "execution_count": 4,
   "id": "e127b143-7545-46cd-81dd-f1a5b0ce9544",
   "metadata": {},
   "outputs": [
    {
     "name": "stdout",
     "output_type": "stream",
     "text": [
      "Native sequence loaded from structure file:\n",
      "MQYKLILNGKTLKGETTTEAVDAATAEKVFKQYANDNGVDGEWTDDATKTFTVTE\n",
      "Saving sampled sequences to /var/folders/sd/pr3fylj57wlgrmcxg1v4zp3c0000gn/T/tmpq3sm8sr0.txt.\n",
      ">sampled_seq_1 recovery: 0.4\n",
      "SQYTIKWNGQSYTGTSSFDAANRDEASKIFNDRAAANGLQGVWTDYDTRTFTVTD \n",
      "\n",
      ">sampled_seq_2 recovery: 0.3090909090909091\n",
      "GKFTLIWECEKVSGTSSVIAANYELATVIFEAAASDKMVKGEWVDFQNQTFTVID \n",
      "\n",
      ">sampled_seq_3 recovery: 0.34545454545454546\n",
      "QRYTMKWEGATKTGVEEVNAANMEEATTKFQSKAADKGMTGSWSDKETRTFTVQE \n",
      "\n",
      ">sampled_seq_4 recovery: 0.45454545454545453\n",
      "MRYVLRWKGKLAKGQETVNAANANEAKKVFRRRAGARGLTGQWTNLKQKTFVVTE \n",
      "\n",
      ">sampled_seq_5 recovery: 0.45454545454545453\n",
      "MNYELIWNGWIIKGVMTVEAANKTKATAMFQKAAKDKGYSGTWTNKQTKTFTITK \n",
      "\n",
      ">sampled_seq_6 recovery: 0.38181818181818183\n",
      "MKYTLKWQGNVVEGSETVNAADAYEAEMIFEKIASDKGLEGVWEDFVSGTYEVRE \n",
      "\n",
      ">sampled_seq_7 recovery: 0.4\n",
      "VEYVLKWNGAKLTGTKTVEAEDRKEATKIFNKRAAALGLTGEWEDYQQHTYTIRE \n",
      "\n",
      ">sampled_seq_8 recovery: 0.3090909090909091\n",
      "MTYTLNWKGEKNTGRATVVAENRFIAQAVFEQMASEAGLYGLWANFSFRTFEIRA \n",
      "\n",
      ">sampled_seq_9 recovery: 0.41818181818181815\n",
      "REYVLVLAGAFIKGEETVTATNSGEAEEIFEAKAADAGLDGDWVDRNNKTYEVTN \n",
      "\n",
      ">sampled_seq_10 recovery: 0.45454545454545453\n",
      "MRYTLVMDGKIYQGSDEVEATDIEVAETVFQRKASENGLTGAWTDESTKTYTVYD \n",
      "\n",
      ">sampled_seq_11 recovery: 0.36363636363636365\n",
      "MQYSIVLKGQTKTGVETVEAQNWLEATDKFLARARDKGITGTWANLYTRTYEVRS \n",
      "\n",
      ">sampled_seq_12 recovery: 0.36363636363636365\n",
      "MLYTLKFEGAIITGQEEVDAKNMYTAEKMFEKRAAEQGLEGVWTNMETRIFEVTR \n",
      "\n",
      ">sampled_seq_13 recovery: 0.41818181818181815\n",
      "MQFKLNLQCKQKRGESTREAPNQLEATQKFDNAAQERGYTGTWTDMTTKTFELED \n",
      "\n",
      ">sampled_seq_14 recovery: 0.41818181818181815\n",
      "RQYTLNLKGAVITGTETVTAANSMEATKMFSKKAAELGVKGEWEDIESKTFVVVE \n",
      "\n",
      ">sampled_seq_15 recovery: 0.32727272727272727\n",
      "MTYVIQWEGPAVRGTRHEKAKDLEDAEAVFEKKASAKGLSGEWGDNTRRVYEVTD \n",
      "\n",
      ">sampled_seq_16 recovery: 0.4727272727272727\n",
      "MNYTLRWDGAKLTGTATTTAANAAEAEEKFQSMAQDHGLYGEWEDENSHTFTVSE \n",
      "\n",
      ">sampled_seq_17 recovery: 0.38181818181818183\n",
      "MEYTLKLDDEMHNGTEEVDAKNKQEATKKFEDRAIDAGVTGFWSNIDTKTFEVTG \n",
      "\n",
      ">sampled_seq_18 recovery: 0.38181818181818183\n",
      "KQYTLKWEGTGVTGEDTFLAKDKEDATEMFDASATLAGLAGHWGDWINKTFVVLE \n",
      "\n",
      ">sampled_seq_19 recovery: 0.36363636363636365\n",
      "MTYKLIWKETVNRGSKQVEAADRDDAFKVFDTRAKQKGITGKWNDMSNRTYTIYG \n",
      "\n",
      ">sampled_seq_20 recovery: 0.4\n",
      "MKYTLVWNGTQVTGESQVEATNMQDAEEVFESLASRSNISGIWSDWASRTYTVTD \n",
      "\n",
      ">sampled_seq_21 recovery: 0.2909090909090909\n",
      "SEYQMIYSGAENKGTDEVEAENRYDAMEAFESKASDAGLSGQWREFNARQYTVHD \n",
      "\n",
      ">sampled_seq_22 recovery: 0.43636363636363634\n",
      "MVYTLVWAGKTKRGEEDVEAANSYQAKAEFEQAAADLRMTGQWTDVAAKTFEVRG \n",
      "\n",
      ">sampled_seq_23 recovery: 0.32727272727272727\n",
      "RKYELKLLGRVINGTTTVTADNWREAREIFEDKAAAKGCSGDWTNFNNRTYVVTK \n",
      "\n",
      ">sampled_seq_24 recovery: 0.45454545454545453\n",
      "MQYQLKWTGDLNTGQMTVEAQNTEDAKDIFDKLANDNGMTGVWTDDFTNTYTVRA \n",
      "\n",
      ">sampled_seq_25 recovery: 0.45454545454545453\n",
      "RTYVLKFAGKELEGVETVTAENAQEAEEMFNAMATDKGVTGEWEDTELKTFTIVE \n",
      "\n",
      ">sampled_seq_26 recovery: 0.38181818181818183\n",
      "SIYRLHWAGKTMSGTESVQAKDMKDAENIFEQLASDAGLQGEWTNFQAHVYTVKQ \n",
      "\n",
      ">sampled_seq_27 recovery: 0.34545454545454546\n",
      "ADYTIVWDGEEVFGVEEFEADNRWQAEQIFNKRATDAGVSGNWTDTTLRTFEVLL \n",
      "\n",
      ">sampled_seq_28 recovery: 0.43636363636363634\n",
      "GIYTLIFAGAIIKGESSVQANNRQDAKKVFEQRANDKGLNGEWDDRTKKKYVVTQ \n",
      "\n",
      ">sampled_seq_29 recovery: 0.38181818181818183\n",
      "SRYTLVWEGENYTGVDMVVAKNRAAAEGVFERRAQEKGCTGEWEDAADKTYTVLY \n",
      "\n",
      ">sampled_seq_30 recovery: 0.4727272727272727\n",
      "AAYTLVLDGKVHIGTMQVEAANKQEAERVFERLAADNGMTGEWTDRRNRTYTVTE \n",
      "\n",
      ">sampled_seq_31 recovery: 0.38181818181818183\n",
      "MDFNLQWEGNLQSGKEEREADNAQEAEALFELMASDAGVSGTWADWVARTFTVSQ \n",
      "\n",
      ">sampled_seq_32 recovery: 0.38181818181818183\n",
      "MNFTLRWDGDTDAGIETVTADNKAVAEEIFDSRAQDAGMDGTWENFSNRTFTVKD \n",
      "\n",
      ">sampled_seq_33 recovery: 0.36363636363636365\n",
      "GRYYLLWEGAEVKGTATVDAENPEEAWKQFEKKAAAKQLTGMWADIAGKTYEVTE \n",
      "\n",
      ">sampled_seq_34 recovery: 0.34545454545454546\n",
      "TKYTLILNGDLFTGTMTRNAKNKSEAFRMFEAIARDLGYTGEWANTANRVYQVRD \n",
      "\n",
      ">sampled_seq_35 recovery: 0.4\n",
      "MEYIIKWAGARIKGQSTVEAADAQEAEKKFSRQATESNWKGTWVDKATKTYSCKN \n",
      "\n",
      ">sampled_seq_36 recovery: 0.38181818181818183\n",
      "KKYHMVWDGAELDGESTTEAENEVAAEEIFEQTASAKGMSGDWVNFVTHTYTVKG \n",
      "\n",
      ">sampled_seq_37 recovery: 0.32727272727272727\n",
      "MEYIILWETGLNKGSMSVVADNMNDARKLFQKMAKDAGLSGEWADIRDKTFVIRD \n",
      "\n",
      ">sampled_seq_38 recovery: 0.41818181818181815\n",
      "MEYQLKWATTNLKGNDTVEANDKQDATKVFDSFASDAGLVGKWTNYDNSTFEVKD \n",
      "\n",
      ">sampled_seq_39 recovery: 0.36363636363636365\n",
      "MKFTLKWQGQNNKGYEQVEATNASEAEQKFEEMAADNNFTGVWANRKNKCYTVTD \n",
      "\n",
      ">sampled_seq_40 recovery: 0.41818181818181815\n",
      "AEYVLNWAGKVHIGVQTVEAANQAEAQRIFKQMASEAGLSGVWTDLRANTYTVTD \n",
      "\n",
      ">sampled_seq_41 recovery: 0.36363636363636365\n",
      "NEYILIWQGAVFKGTEQVTAANKDEAEAMFEKMANDNGLRGSWENPNTNTYTIID \n",
      "\n",
      ">sampled_seq_42 recovery: 0.43636363636363634\n",
      "MTYELKFDGTLGKGTETVEAENSQEAEQVFNKLATNSGTNGEWTNWANRTFEVTD \n",
      "\n",
      ">sampled_seq_43 recovery: 0.38181818181818183\n",
      "MIYKLLFQGGMFTGTDQVTAKNAAEAEKVFDEFAQAAGLSGFWDNLETRTYTIVA \n",
      "\n",
      ">sampled_seq_44 recovery: 0.3090909090909091\n",
      "TTYTIDFNCSNVHGTTEVNADNKEEAEDLFEQQAEDKGLAGSWGDYSGRTYVVKC \n",
      "\n",
      ">sampled_seq_45 recovery: 0.38181818181818183\n",
      "KEYTVLLEGSTDMGTSSVDADNAEDAERIFLQKAKDLGATGQWNDYDQKTFIINE \n",
      "\n",
      ">sampled_seq_46 recovery: 0.41818181818181815\n",
      "SIYTLIWKGAKTRGTETVEATDDKEAQKMFYYLALLAGLTGSWVDYVTKTFTVLG \n",
      "\n",
      ">sampled_seq_47 recovery: 0.38181818181818183\n",
      "MKYTFVWSGKNFKGTKQVSADNWQEAEKVFEKSASDANIRGAWGDFNMKTYEVNE \n",
      "\n",
      ">sampled_seq_48 recovery: 0.34545454545454546\n",
      "ATFNLVQKGDVVKGEETVEAANSRDAEQMFNKAAEDKGLSGKWDNTDERTFEVGD \n",
      "\n",
      ">sampled_seq_49 recovery: 0.41818181818181815\n",
      "MEYFMTLEGALLKGTATRVADNQSEAEHIFEQKAAAKGLSGEWVDANAKTYIVIE \n",
      "\n",
      ">sampled_seq_50 recovery: 0.36363636363636365\n",
      "MKFNILWEGKKNQGTTTVEAANRQDAEKRFEKMASALGLSGEWTNLDGRVFVITA \n",
      "\n",
      ">sampled_seq_51 recovery: 0.43636363636363634\n",
      "LKYTLDWDGRTSKGTMAVEASNAIEAEKIFDQKAAESGLSGTITNDENRTFTVAE \n",
      "\n",
      ">sampled_seq_52 recovery: 0.41818181818181815\n",
      "REYKLQWDGTVYRGTDTVEAENAMEAEKLFESRASARGLMGEWTDYNQRVFAVTG \n",
      "\n",
      ">sampled_seq_53 recovery: 0.4727272727272727\n",
      "DKYKLNLSGKLDRGVETVDAVDAQDAEKTFEKRAKDAGMTGKWTNYKTRTYEVTD \n",
      "\n",
      ">sampled_seq_54 recovery: 0.43636363636363634\n",
      "MEYTLIMAGTAIKGVAQVEAANEDEAEKVFEKQAKELGLSGEWTDKSKKTFEIRA \n",
      "\n",
      ">sampled_seq_55 recovery: 0.4\n",
      "MEYLLLWEFADWTGKETKDANSKSQAKRVFEKMAAANGLSGTWADFNNKTFTVTE \n",
      "\n",
      ">sampled_seq_56 recovery: 0.4\n",
      "SKFYLVWEGADNRGEETVTADNAETAYIQFNQAASDAGLSGVWTDKDSRVFTVTC \n",
      "\n",
      ">sampled_seq_57 recovery: 0.4909090909090909\n",
      "MTYTLKLAGKTYQGTESVNADNAMEAEKKFAALASDLGITGEWTNWDTHTFEVTE \n",
      "\n",
      ">sampled_seq_58 recovery: 0.34545454545454546\n",
      "HVYQLTWNGTTHNGNSQFEAANSQDAERRFEKKAKAAGLSGNWVDKNNRTFTIQA \n",
      "\n",
      ">sampled_seq_59 recovery: 0.38181818181818183\n",
      "TEYTLRFDCYKTQGSETVLADCSSMARLQFEQKASDEGLSGHWSDYSEKTFTVTE \n",
      "\n",
      ">sampled_seq_60 recovery: 0.45454545454545453\n",
      "REYILTLNGSRMTGVTTAEAANSEEAKKIFENRASDLGLDGRWTDFQRKTWVATE \n",
      "\n",
      ">sampled_seq_61 recovery: 0.36363636363636365\n",
      "MDYTIILKGNFYAGTERYTASNAEEAQIVFLRSANALGCTGAWDNFESRTFTVLK \n",
      "\n",
      ">sampled_seq_62 recovery: 0.34545454545454546\n",
      "MQYQIQWKGQVNSGKLTVDAENSEEAEDIFEERAQDLGMTGNWDNYHSKTYNVTD \n",
      "\n",
      ">sampled_seq_63 recovery: 0.32727272727272727\n",
      "GRYIILYAGASYCGTTTVDAKNIEEATRTFDQQASDKGVSGAWSNLETKTYEIRG \n",
      "\n",
      ">sampled_seq_64 recovery: 0.36363636363636365\n",
      "DEYTLIWAGSELIGVETRKADNQFEAENQFEASAEALGMDGHWTSSQNRTFEVRY \n",
      "\n",
      ">sampled_seq_65 recovery: 0.32727272727272727\n",
      "VLYTLNLAGKYAEGKETVAADDRNQAEKQFEQKASMLHLVGAWQSRDNRTYVIRD \n",
      "\n",
      ">sampled_seq_66 recovery: 0.4\n",
      "MEYTILLAGDKVTGTESVNAANQHEAKEKFKAKADDQGLTGKWADWNTKTFTVTQ \n",
      "\n",
      ">sampled_seq_67 recovery: 0.43636363636363634\n",
      "QQYFLKFAGSVKKGETTVEAENEEEAKMRFDQAAADLGLTGEWTDFNRRTYEVEG \n",
      "\n",
      ">sampled_seq_68 recovery: 0.32727272727272727\n",
      "SEYTLEWDSTLISGVETVEAGDVDEAESAFDELAAEANLKGVWSDFAARTFEVVA \n",
      "\n",
      ">sampled_seq_69 recovery: 0.4\n",
      "STYTLEWADADLKGTTTVEATNWNEARKMFEQQAADSSLAGIWTSFDTRTYTISE \n",
      "\n",
      ">sampled_seq_70 recovery: 0.45454545454545453\n",
      "GEYTLRWDGNINKGISSVEAPNEFEAEKQFQKRASLNGVTGEWGDRANRTYTVTE \n",
      "\n",
      ">sampled_seq_71 recovery: 0.36363636363636365\n",
      "MQYWIVLTGNEVTGVDTVKATSKQAAEKIFVSKAADMGLTGVWADFENRTYDVRD \n",
      "\n",
      ">sampled_seq_72 recovery: 0.32727272727272727\n",
      "MVYTLVFAGADIYGTDQVTASNADEAHKIFQKHANAKKTRGRWADSDNRTYEVVE \n",
      "\n",
      ">sampled_seq_73 recovery: 0.38181818181818183\n",
      "MKYTIKFAGNIRKGTETVTASNKQEATAIFDRRAQDAGLTGTWVDFDTKTFEVTS \n",
      "\n",
      ">sampled_seq_74 recovery: 0.34545454545454546\n",
      "NEFTLILAGSIYQGSKEVTAQNAEEATQIFEQRAQDRNIIGQWEDMTKQTFLVTG \n",
      "\n",
      ">sampled_seq_75 recovery: 0.43636363636363634\n",
      "MKYTLIYNGAQYKGTTQVEASDAAQAAQTFESMARNAGVTGVWSDYDKRTYEVRA \n",
      "\n",
      ">sampled_seq_76 recovery: 0.34545454545454546\n",
      "QEYTIKYSGATVNGSNTVVAKNRDQAKEIFDNAAKDLGMTGAWTDFERQTYVVTE \n",
      "\n",
      ">sampled_seq_77 recovery: 0.43636363636363634\n",
      "QLYELIWAGKNLKGTRTVNALNKAEAQKTFNKRAADLGHTGEWENTFSRTYTVYE \n",
      "\n",
      ">sampled_seq_78 recovery: 0.38181818181818183\n",
      "FNYTLVWEGEKYTGQDEVTAKDREQASALFQAMAADKGVKGKWTDEDNKTFEVFE \n",
      "\n",
      ">sampled_seq_79 recovery: 0.4\n",
      "MLYTLRWRGTINTGVETVTAPNKDEAEKVFDTQASQKGMSGVWTDFNNRTYTVSE \n",
      "\n",
      ">sampled_seq_80 recovery: 0.32727272727272727\n",
      "NEYTLLWDGEDARGTLEVSAKNMLAAFQSFEQKAADAGLTGAWSDFSQRTFQATE \n",
      "\n",
      ">sampled_seq_81 recovery: 0.38181818181818183\n",
      "LNYTLVLAGLFHTGKSTVQADDFLEAERWFNQYAAAKGLQGVWTNYDNRTYTVQD \n",
      "\n",
      ">sampled_seq_82 recovery: 0.45454545454545453\n",
      "MLYTIILEGTFMVGEEEVEASNEMTASKTFNKRAQDQGIVGEWTDYEERTYDVTE \n",
      "\n",
      ">sampled_seq_83 recovery: 0.41818181818181815\n",
      "MKYHLVYDGTSVQGEETVEAEDWSDAEKKYEAKANDMNVNGRWTNHKDRTFEVWN \n",
      "\n",
      ">sampled_seq_84 recovery: 0.3090909090909091\n",
      "RTYTLKYKGKDYTGEGTQDAKNSQEAKQIFEAMLRAANTTGTWGDYFSHTFTVYG \n",
      "\n",
      ">sampled_seq_85 recovery: 0.4\n",
      "MKYELRWSGAEVHGEWQVEAEDKAAANQAFEQRANEKGISGSWASASARTFTVVD \n",
      "\n",
      ">sampled_seq_86 recovery: 0.41818181818181815\n",
      "KQYQLVWNDGLLKGTSTFEADDSMAAALVFKAAAQARGLQGVWSNRASGVFTVIP \n",
      "\n",
      ">sampled_seq_87 recovery: 0.32727272727272727\n",
      "LNYTLEKEDEDLKGEDQVVATNAREAEAIFNALARAKGMTGFWTNYFSRTFVIED \n",
      "\n",
      ">sampled_seq_88 recovery: 0.4\n",
      "MKYKLVLDGNEYNGVESVDAKNAEEATLIFQQAAAATGLTGKWDNVKNKTFVVTE \n",
      "\n",
      ">sampled_seq_89 recovery: 0.36363636363636365\n",
      "NTFTLKLTCRSTTGTESTSAANADEAKIVFSGRASALGVQGEWTNVNSKVFVITE \n",
      "\n",
      ">sampled_seq_90 recovery: 0.509090909090909\n",
      "MEYTLIYAGGQWSGNTEVEAANWEEAEKAFDRAATDQGVTGEWTDRATKVFIVTD \n",
      "\n",
      ">sampled_seq_91 recovery: 0.41818181818181815\n",
      "KEYTLQLSGNIVQGEMTVEAVDQNDATAAFDESAAQQGLSGVWTNYNNRTFLVTE \n",
      "\n",
      ">sampled_seq_92 recovery: 0.34545454545454546\n",
      "MEYTLVWNCASKSGRETHVAANRTAAKKVFNKRAQAAGLTGTWDDFDTRTFVIVN \n",
      "\n",
      ">sampled_seq_93 recovery: 0.45454545454545453\n",
      "VQYTLLLEGASHKGTEQVEADDQADAEETFSDAANDLGLQGIWSNFDKRTFEVTE \n",
      "\n",
      ">sampled_seq_94 recovery: 0.41818181818181815\n",
      "MTYYLILNGAKFKGTETVEAPDEQEAYEVFNKAAFELKMTGKWKNDENRVYEVTE \n",
      "\n",
      ">sampled_seq_95 recovery: 0.41818181818181815\n",
      "SDFTLVLEGEDLTGTTTVEADDLETAESKFEERASDLGMSGTWDDEEARVYTVTD \n",
      "\n",
      ">sampled_seq_96 recovery: 0.36363636363636365\n",
      "ATYTLVWSGSFITGQHTESAANAKEARNVFNSLATDKGLTGAWTDASAKVFEVDP \n",
      "\n",
      ">sampled_seq_97 recovery: 0.41818181818181815\n",
      "MEYQLEFAGNKLTGTETVEAPNALEAKKQFDSGASQLGVVGEWVDYVKRVYEVTE \n",
      "\n",
      ">sampled_seq_98 recovery: 0.36363636363636365\n",
      "SKYTLTWEGFAVKGTVEAEAENAADATRIFQERAMAAGLSGVWEDLDRRTYTVGE \n",
      "\n",
      ">sampled_seq_99 recovery: 0.4727272727272727\n",
      "VIYTLKLKGNRVKGQSTVEASNSEEAEKIFEKQAEDRGMSGVWTDKDTHTFIVTE \n",
      "\n",
      ">sampled_seq_100 recovery: 0.36363636363636365\n",
      "KTYTLFWQGTKVKGTGTVQASNQQEATIVFEKAAKDKDITGVWQNYDSKTFQVTE \n",
      "\n"
     ]
    }
   ],
   "source": [
    "t = prot.esm_if()"
   ]
  },
  {
   "cell_type": "code",
   "execution_count": 5,
   "id": "b6203dc9-a77e-4b43-ab20-23b1e74e910d",
   "metadata": {},
   "outputs": [
    {
     "data": {
      "text/plain": [
       "<tempfile._TemporaryFileWrapper at 0x17eb8f390>"
      ]
     },
     "execution_count": 5,
     "metadata": {},
     "output_type": "execute_result"
    }
   ],
   "source": [
    "pai.ml_tools.esm_tools."
   ]
  },
  {
   "cell_type": "code",
   "execution_count": 3,
   "id": "c6026882-ee75-48c5-a962-12450d58b6f4",
   "metadata": {},
   "outputs": [],
   "source": [
    "coords, native_seq = esm.inverse_folding.util.load_coords(pdbfile, chain)"
   ]
  },
  {
   "cell_type": "code",
   "execution_count": 10,
   "id": "0897f924-f5b6-4c70-8d5f-3146e1f2b2b8",
   "metadata": {},
   "outputs": [
    {
     "data": {
      "text/plain": [
       "['A']"
      ]
     },
     "execution_count": 10,
     "metadata": {},
     "output_type": "execute_result"
    }
   ],
   "source": [
    "pai.struc.chain_parser(pdbfile)"
   ]
  },
  {
   "cell_type": "code",
   "execution_count": 5,
   "id": "b30f97d6-790f-41b8-b82c-3680ca8ee825",
   "metadata": {},
   "outputs": [
    {
     "name": "stdout",
     "output_type": "stream",
     "text": [
      "Native sequence loaded from structure file:\n",
      "MQYKLILNGKTLKGETTTEAVDAATAEKVFKQYANDNGVDGEWTDDATKTFTVTE\n",
      "Saving sampled sequences to /var/folders/sd/pr3fylj57wlgrmcxg1v4zp3c0000gn/T/tmp7euuvdyk.txt.\n",
      ">sampled_seq_1 recovery: 0.4727272727272727\n",
      "MQYKLILDGVINLGEMAVTADDADEAEKIFQNLAKANGLSGRWNDEDAKTYNVRG \n",
      "\n",
      ">sampled_seq_2 recovery: 0.6181818181818182\n",
      "MQYKLILNGEQVKGILTVEAPNSATAEKKFKKYAQQNGLTGEWEDNFTKTYTVHG \n",
      "\n",
      ">sampled_seq_3 recovery: 0.5272727272727272\n",
      "MQYKLILAGDKNKGEMAVTAENAQSAEQAFKAMADMNSIKGEWDDEVTKTYTVTG \n",
      "\n",
      ">sampled_seq_4 recovery: 0.43636363636363634\n",
      "MQYKLILDGEKVQGSAEYNAANADAAEQIFSDFARQHGIAGVWKDFMTKLFTVSG \n",
      "\n",
      ">sampled_seq_5 recovery: 0.43636363636363634\n",
      "MQYKLILAGPEIKGKAHAEAEDASEAEVAFKSFAKKRGLTGYWEDYVSRIYIVKG \n",
      "\n",
      ">sampled_seq_6 recovery: 0.41818181818181815\n",
      "MQYKLIEAGEATRGVAKFEAVNSDEAELVFQSLARKHGMCGTWEDKESRTFYVRG \n",
      "\n",
      ">sampled_seq_7 recovery: 0.43636363636363634\n",
      "MQYKLIQDGKLVIGSMSVTADDAEEAQKIFKKMAQMHGNAGAWEDSESKVYLVTG \n",
      "\n",
      ">sampled_seq_8 recovery: 0.43636363636363634\n",
      "MQYKLILDGDKYQGERTVIAKNANEAKMKFLKFCKLNGITGKWEDTSSKVFTVKG \n",
      "\n",
      ">sampled_seq_9 recovery: 0.4727272727272727\n",
      "MQYKLILNAELIRGIEEISAKDKELAEEVFRKLARRHSVDGKWTDRFTKTYVVSG \n",
      "\n",
      ">sampled_seq_10 recovery: 0.4909090909090909\n",
      "MQYKLILQGNEVQGTTSVGADNWAQAEEQFRKMAHSNGLSGEWKDRAEKVFTVRG \n",
      "\n"
     ]
    },
    {
     "data": {
      "text/plain": [
       "<tempfile._TemporaryFileWrapper at 0x1695cdbd0>"
      ]
     },
     "execution_count": 5,
     "metadata": {},
     "output_type": "execute_result"
    }
   ],
   "source": [
    "pai.ml_tools.esm_tools.esm_design(pdbfile, chain, fixed=fixed, temperature=1.0, num_samples=10, outpath=None, model=model, alphabet=alphabet)"
   ]
  },
  {
   "cell_type": "code",
   "execution_count": 60,
   "id": "a65960e4-2469-4047-8d59-e1d894b99575",
   "metadata": {},
   "outputs": [],
   "source": [
    "import shutil\n",
    "\n",
    "def save_tempfile(temp_file, target_file_path):\n",
    "    \"\"\"\n",
    "    Copies the contents of a temporary file to a permanent file location.\n",
    "    \n",
    "    Args:\n",
    "    temp_file_path (str): The file path of the temporary file.\n",
    "    target_file_path (str): The file path where the contents should be permanently saved.\n",
    "    \n",
    "    Returns:\n",
    "    bool: True if the file was copied successfully, False if an error occurred.\n",
    "    \"\"\"\n",
    "    if type(temp_file) == tempfile._TemporaryFileWrapper:\n",
    "        temp_file_path = temp_file.file.name\n",
    "    elif type(temp_file) == str:\n",
    "        temp_file_path = temp_file\n",
    "    else:\n",
    "        raise ValueError('tempfile has an unexpected format')\n",
    "    try:\n",
    "        # Copy the content of the temporary file to the target file\n",
    "        shutil.copy(temp_file_path, target_file_path)\n",
    "        print(f\"File has been successfully saved to {target_file_path}.\")\n",
    "        return True\n",
    "    except Exception as e:\n",
    "        print(f\"Failed to save the file: {e}\")\n",
    "        return False"
   ]
  },
  {
   "cell_type": "code",
   "execution_count": 61,
   "id": "eeec274c-2cad-490c-96e7-45105ef422a5",
   "metadata": {},
   "outputs": [
    {
     "data": {
      "text/plain": [
       "tempfile._TemporaryFileWrapper"
      ]
     },
     "execution_count": 61,
     "metadata": {},
     "output_type": "execute_result"
    }
   ],
   "source": [
    "type(temp_file)"
   ]
  },
  {
   "cell_type": "code",
   "execution_count": 62,
   "id": "0e79d2af-ac79-4e04-8c20-40749db294ef",
   "metadata": {},
   "outputs": [
    {
     "name": "stdout",
     "output_type": "stream",
     "text": [
      "File has been successfully saved to test.\n"
     ]
    },
    {
     "data": {
      "text/plain": [
       "True"
      ]
     },
     "execution_count": 62,
     "metadata": {},
     "output_type": "execute_result"
    }
   ],
   "source": [
    "save_tempfile(temp_file, 'test')"
   ]
  },
  {
   "cell_type": "code",
   "execution_count": 11,
   "id": "50c098e9-09d6-425a-b68e-c7d05ede0bc7",
   "metadata": {},
   "outputs": [
    {
     "data": {
      "text/plain": [
       "\u001b[0;31mSignature:\u001b[0m      \u001b[0mmodel\u001b[0m\u001b[0;34m.\u001b[0m\u001b[0mencoder\u001b[0m\u001b[0;34m(\u001b[0m\u001b[0;34m*\u001b[0m\u001b[0margs\u001b[0m\u001b[0;34m,\u001b[0m \u001b[0;34m**\u001b[0m\u001b[0mkwargs\u001b[0m\u001b[0;34m)\u001b[0m\u001b[0;34m\u001b[0m\u001b[0;34m\u001b[0m\u001b[0m\n",
       "\u001b[0;31mType:\u001b[0m           GVPTransformerEncoder\n",
       "\u001b[0;31mString form:\u001b[0m   \n",
       "GVPTransformerEncoder(\n",
       "           (dropout_module): Dropout(p=0.1, inplace=False)\n",
       "           (embed_tokens): Embedd <...> se_affine=True)\n",
       "           )\n",
       "           )\n",
       "           (layer_norm): LayerNorm((512,), eps=1e-05, elementwise_affine=True)\n",
       "           )\n",
       "\u001b[0;31mFile:\u001b[0m           ~/miniforge3/envs/proteusAI/lib/python3.11/site-packages/esm/inverse_folding/gvp_transformer_encoder.py\n",
       "\u001b[0;31mDocstring:\u001b[0m     \n",
       "Transformer encoder consisting of *args.encoder.layers* layers. Each layer\n",
       "is a :class:`TransformerEncoderLayer`.\n",
       "\n",
       "Args:\n",
       "    args (argparse.Namespace): parsed command-line arguments\n",
       "    dictionary (~fairseq.data.Dictionary): encoding dictionary\n",
       "    embed_tokens (torch.nn.Embedding): input embedding\n",
       "\u001b[0;31mInit docstring:\u001b[0m Initializes internal Module state, shared by both nn.Module and ScriptModule."
      ]
     },
     "metadata": {},
     "output_type": "display_data"
    }
   ],
   "source": [
    "model.encoder?"
   ]
  },
  {
   "cell_type": "code",
   "execution_count": null,
   "id": "c6a14a77-43d5-4d0d-be41-e8f672b97f26",
   "metadata": {},
   "outputs": [],
   "source": []
  }
 ],
 "metadata": {
  "kernelspec": {
   "display_name": "Python 3 (ipykernel)",
   "language": "python",
   "name": "python3"
  },
  "language_info": {
   "codemirror_mode": {
    "name": "ipython",
    "version": 3
   },
   "file_extension": ".py",
   "mimetype": "text/x-python",
   "name": "python",
   "nbconvert_exporter": "python",
   "pygments_lexer": "ipython3",
   "version": "3.8.19"
  }
 },
 "nbformat": 4,
 "nbformat_minor": 5
}
